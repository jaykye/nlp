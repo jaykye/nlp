{
 "cells": [
  {
   "cell_type": "markdown",
   "metadata": {
    "id": "s_qNSzzyaCbD"
   },
   "source": [
    "##### Copyright 2019 The TensorFlow Authors."
   ]
  },
  {
   "cell_type": "code",
   "execution_count": 1,
   "metadata": {
    "cellView": "form",
    "execution": {
     "iopub.execute_input": "2021-04-23T01:28:29.934550Z",
     "iopub.status.busy": "2021-04-23T01:28:29.933894Z",
     "iopub.status.idle": "2021-04-23T01:28:29.935669Z",
     "shell.execute_reply": "2021-04-23T01:28:29.936079Z"
    },
    "id": "jmjh290raIky"
   },
   "outputs": [],
   "source": [
    "#@title Licensed under the Apache License, Version 2.0 (the \"License\");\n",
    "# you may not use this file except in compliance with the License.\n",
    "# You may obtain a copy of the License at\n",
    "#\n",
    "# https://www.apache.org/licenses/LICENSE-2.0\n",
    "#\n",
    "# Unless required by applicable law or agreed to in writing, software\n",
    "# distributed under the License is distributed on an \"AS IS\" BASIS,\n",
    "# WITHOUT WARRANTIES OR CONDITIONS OF ANY KIND, either express or implied.\n",
    "# See the License for the specific language governing permissions and\n",
    "# limitations under the License."
   ]
  },
  {
   "cell_type": "markdown",
   "metadata": {
    "id": "J0Qjg6vuaHNt"
   },
   "source": [
    "# Transformer model for language understanding"
   ]
  },
  {
   "cell_type": "markdown",
   "metadata": {
    "id": "AOpGoE2T-YXS"
   },
   "source": [
    "<table class=\"tfo-notebook-buttons\" align=\"left\">\n",
    "  <td>\n",
    "    <a target=\"_blank\" href=\"https://www.tensorflow.org/tutorials/text/transformer\">\n",
    "    <img src=\"https://www.tensorflow.org/images/tf_logo_32px.png\" />\n",
    "    View on TensorFlow.org</a>\n",
    "  </td>\n",
    "  <td>\n",
    "    <a target=\"_blank\" href=\"https://colab.research.google.com/github/tensorflow/docs/blob/master/site/en/tutorials/text/transformer.ipynb\">\n",
    "    <img src=\"https://www.tensorflow.org/images/colab_logo_32px.png\" />\n",
    "    Run in Google Colab</a>\n",
    "  </td>\n",
    "  <td>\n",
    "    <a target=\"_blank\" href=\"https://github.com/tensorflow/docs/blob/master/site/en/tutorials/text/transformer.ipynb\">\n",
    "    <img src=\"https://www.tensorflow.org/images/GitHub-Mark-32px.png\" />\n",
    "    View source on GitHub</a>\n",
    "  </td>\n",
    "  <td>\n",
    "    <a href=\"https://storage.googleapis.com/tensorflow_docs/docs/site/en/tutorials/text/transformer.ipynb\"><img src=\"https://www.tensorflow.org/images/download_logo_32px.png\" />Download notebook</a>\n",
    "  </td>\n",
    "</table>"
   ]
  },
  {
   "cell_type": "markdown",
   "metadata": {
    "id": "M-f8TnGpE_ex"
   },
   "source": [
    "This tutorial trains a <a href=\"https://arxiv.org/abs/1706.03762\" class=\"external\">Transformer model</a> to translate a [Portuguese to English dataset](https://www.tensorflow.org/datasets/catalog/ted_hrlr_translate#ted_hrlr_translatept_to_en). This is an advanced example that assumes knowledge of [text generation](text_generation.ipynb) and [attention](nmt_with_attention.ipynb).\n",
    "\n",
    "The core idea behind the Transformer model is *self-attention*—the ability to attend to different positions of the input sequence to compute a representation of that sequence. Transformer creates stacks of self-attention layers and is explained below in the sections *Scaled dot product attention* and *Multi-head attention*.\n",
    "\n",
    "A transformer model handles variable-sized input using stacks of self-attention layers instead of [RNNs](text_classification_rnn.ipynb) or [CNNs](../images/cnn.ipynb). This general architecture has a number of advantages:\n",
    "\n",
    "* It makes no assumptions about the temporal/spatial relationships across the data. This is ideal for processing a set of objects (for example, [StarCraft units](https://deepmind.com/blog/alphastar-mastering-real-time-strategy-game-starcraft-ii/#block-8)).\n",
    "* Layer outputs can be calculated in parallel, instead of a series like an RNN.\n",
    "* Distant items can affect each other's output without passing through many RNN-steps, or convolution layers (see [Scene Memory Transformer](https://arxiv.org/pdf/1903.03878.pdf) for example).\n",
    "* It can learn long-range dependencies. This is a challenge in many sequence tasks.\n",
    "\n",
    "The downsides of this architecture are:\n",
    "\n",
    "* For a time-series, the output for a time-step is calculated from the *entire history* instead of only the inputs and current hidden-state. This _may_ be less efficient.   \n",
    "* If the input *does* have a  temporal/spatial relationship, like text, some positional encoding must be added or the model will effectively see a bag of words. \n",
    "(positional info 안주면 bag of words나 다름 없다는 소리-- bag of words 모델은 grammar, 어순 이런것 다 상관안하고 무슨 단어들이 한 문장을 구성하나만 생각함. 그냥 value_counts()나 다름없다.)\n",
    "After training the model in this notebook, you will be able to input a Portuguese sentence and return the English translation.\n",
    "\n",
    "<img src=\"https://www.tensorflow.org/images/tutorials/transformer/attention_map_portuguese.png\" width=\"800\" alt=\"Attention heatmap\">"
   ]
  },
  {
   "cell_type": "markdown",
   "metadata": {
    "id": "swymtxpl7W7w"
   },
   "source": [
    "## Setup"
   ]
  },
  {
   "cell_type": "raw",
   "metadata": {
    "id": "XFG0NDRu5mYQ"
   },
   "source": [
    "# 이거 이미 했다.\n",
    "!pip install -q tensorflow_datasets\n",
    "!pip install -q tensorflow_text"
   ]
  },
  {
   "cell_type": "code",
   "execution_count": 1,
   "metadata": {
    "id": "JjJJyJTZYebt"
   },
   "outputs": [],
   "source": [
    "import collections\n",
    "import logging\n",
    "import os\n",
    "import pathlib\n",
    "import re\n",
    "import string\n",
    "import sys\n",
    "import time\n",
    "\n",
    "import numpy as np\n",
    "import matplotlib.pyplot as plt\n",
    "\n",
    "import tensorflow_datasets as tfds\n",
    "import tensorflow_text as text\n",
    "import tensorflow as tf"
   ]
  },
  {
   "cell_type": "code",
   "execution_count": 2,
   "metadata": {
    "id": "pXzVhU34zWEU"
   },
   "outputs": [],
   "source": [
    "logging.getLogger('tensorflow').setLevel(logging.ERROR)  # suppress warnings"
   ]
  },
  {
   "cell_type": "markdown",
   "metadata": {
    "id": "-cCvXbPkccV1"
   },
   "source": [
    "## Download the Dataset"
   ]
  },
  {
   "cell_type": "markdown",
   "metadata": {
    "id": "t4_Qt8W1hJE_"
   },
   "source": [
    "Use [TensorFlow datasets](https://www.tensorflow.org/datasets) to load the [Portuguese-English translation dataset](https://github.com/neulab/word-embeddings-for-nmt) from the [TED Talks Open Translation Project](https://www.ted.com/participate/translate).\n",
    "\n",
    "This dataset contains approximately 50000 training examples, 1100 validation examples, and 2000 test examples."
   ]
  },
  {
   "cell_type": "code",
   "execution_count": 3,
   "metadata": {
    "id": "8q9t4FmN96eN"
   },
   "outputs": [],
   "source": [
    "examples, metadata = tfds.load('ted_hrlr_translate/pt_to_en', with_info=True,\n",
    "                               as_supervised=True)\n",
    "train_examples, val_examples = examples['train'], examples['validation']"
   ]
  },
  {
   "cell_type": "markdown",
   "metadata": {
    "id": "1OnwQZ2IpTbl"
   },
   "source": [
    "The `tf.data.Dataset` object returned by TensorFlow datasets yields pairs of text examples:"
   ]
  },
  {
   "cell_type": "code",
   "execution_count": 4,
   "metadata": {},
   "outputs": [
    {
     "name": "stdout",
     "output_type": "stream",
     "text": [
      "<PrefetchDataset shapes: ((), ()), types: (tf.string, tf.string)>\n"
     ]
    }
   ],
   "source": [
    "print(train_examples)\n",
    "# Looks like one data pt is ((portuguese.....계속이어짐), (english.....계속이어짐))"
   ]
  },
  {
   "cell_type": "code",
   "execution_count": 5,
   "metadata": {},
   "outputs": [],
   "source": [
    "# batch 3 하면 3개씩 끊어서 줌."
   ]
  },
  {
   "cell_type": "code",
   "execution_count": 6,
   "metadata": {
    "id": "AtuMLTQGlHZ1"
   },
   "outputs": [
    {
     "name": "stdout",
     "output_type": "stream",
     "text": [
      "e quando melhoramos a procura , tiramos a única vantagem da impressão , que é a serendipidade .\n",
      "\n",
      "mas e se estes fatores fossem ativos ?\n",
      "\n",
      "mas eles não tinham a curiosidade de me testar .\n",
      "\n",
      "and when you improve searchability , you actually take away the one advantage of print , which is serendipity .\n",
      "but what if it were active ?\n",
      "but they did n't test for curiosity .\n"
     ]
    }
   ],
   "source": [
    "# take -- same as df.head(n)\n",
    "for pt_examples, en_examples in train_examples.batch(3).take(1):\n",
    "    for pt in pt_examples.numpy():\n",
    "        print(pt.decode('utf-8'))\n",
    "        print()\n",
    "    for en in en_examples.numpy():\n",
    "        print(en.decode('utf-8'))"
   ]
  },
  {
   "cell_type": "markdown",
   "metadata": {
    "id": "eJxTd6aVnZyh"
   },
   "source": [
    "## Text tokenization & detokenization"
   ]
  },
  {
   "cell_type": "markdown",
   "metadata": {
    "id": "WlHAFNaopq6U"
   },
   "source": [
    "You can't train a model directly on text. The text needs to be converted to some numeric representation first. Typically, you convert the text to sequences of token IDs, which are as indexes into an embedding."
   ]
  },
  {
   "cell_type": "markdown",
   "metadata": {
    "id": "2sPvbCEePzOC"
   },
   "source": [
    "One popular implementation is demonstrated in the [Subword tokenizer tutorial](https://www.tensorflow.org/tutorials/tensorflow_text/subwords_tokenizer) builds subword tokenizers (`text.BertTokenizer`) optimized for this dataset and exports them in a [saved_model](https://www.tensorflow.org/guide/saved_model). \n",
    "\n",
    "Download and unzip and import the `saved_model`:"
   ]
  },
  {
   "cell_type": "code",
   "execution_count": 7,
   "metadata": {
    "id": "QToMl0NanZPr"
   },
   "outputs": [
    {
     "data": {
      "text/plain": [
       "'.\\\\ted_hrlr_translate_pt_en_converter.zip'"
      ]
     },
     "execution_count": 7,
     "metadata": {},
     "output_type": "execute_result"
    }
   ],
   "source": [
    "model_name = \"ted_hrlr_translate_pt_en_converter\"\n",
    "tf.keras.utils.get_file(\n",
    "    f\"{model_name}.zip\",\n",
    "    f\"https://storage.googleapis.com/download.tensorflow.org/models/{model_name}.zip\",\n",
    "    cache_dir='.', cache_subdir='', extract=True\n",
    ")"
   ]
  },
  {
   "cell_type": "code",
   "execution_count": 8,
   "metadata": {
    "id": "h5dbGnPXnuI1"
   },
   "outputs": [],
   "source": [
    "tokenizers = tf.saved_model.load(model_name)  # this is a tokenizer model.."
   ]
  },
  {
   "cell_type": "markdown",
   "metadata": {
    "id": "KQYc0CJTpnvg"
   },
   "source": [
    "The `tf.saved_model` contains two text tokenizers, one for English and one for Portugese. Both have the same methods:"
   ]
  },
  {
   "cell_type": "code",
   "execution_count": 9,
   "metadata": {
    "id": "s-PCJijfcZ9_"
   },
   "outputs": [
    {
     "data": {
      "text/plain": [
       "['detokenize',\n",
       " 'get_reserved_tokens',\n",
       " 'get_vocab_path',\n",
       " 'get_vocab_size',\n",
       " 'lookup',\n",
       " 'tokenize',\n",
       " 'tokenizer',\n",
       " 'vocab']"
      ]
     },
     "execution_count": 9,
     "metadata": {},
     "output_type": "execute_result"
    }
   ],
   "source": [
    "[item for item in dir(tokenizers.en) if not item.startswith('_')]"
   ]
  },
  {
   "cell_type": "markdown",
   "metadata": {
    "id": "-pv_nc5lrAiD"
   },
   "source": []
  },
  {
   "cell_type": "code",
   "execution_count": 10,
   "metadata": {
    "id": "0GV-smAAQJtM"
   },
   "outputs": [
    {
     "name": "stdout",
     "output_type": "stream",
     "text": [
      "and when you improve searchability , you actually take away the one advantage of print , which is serendipity .\n",
      "but what if it were active ?\n",
      "but they did n't test for curiosity .\n"
     ]
    }
   ],
   "source": [
    "for en in en_examples.numpy():\n",
    "    print(en.decode('utf-8'))"
   ]
  },
  {
   "cell_type": "code",
   "execution_count": 11,
   "metadata": {},
   "outputs": [
    {
     "data": {
      "text/plain": [
       "<tf.Tensor: shape=(3,), dtype=string, numpy=\n",
       "array([b'and when you improve searchability , you actually take away the one advantage of print , which is serendipity .',\n",
       "       b'but what if it were active ?',\n",
       "       b\"but they did n't test for curiosity .\"], dtype=object)>"
      ]
     },
     "execution_count": 11,
     "metadata": {},
     "output_type": "execute_result"
    }
   ],
   "source": [
    "en_examples"
   ]
  },
  {
   "cell_type": "code",
   "execution_count": 12,
   "metadata": {
    "id": "2fQJq1xB-tOn"
   },
   "outputs": [
    {
     "ename": "InvalidArgumentError",
     "evalue": "2 root error(s) found.\n  (0) Invalid argument:  Trying to access resource using the wrong type. Expected class tensorflow::lookup::LookupInterface got class tensorflow::lookup::LookupInterface\n\t [[{{node StatefulPartitionedCall/WordpieceTokenizeWithOffsets/WordpieceTokenizeWithOffsets/WordpieceTokenizeWithOffsets}}]]\n  (1) Invalid argument:  Trying to access resource using the wrong type. Expected class tensorflow::lookup::LookupInterface got class tensorflow::lookup::LookupInterface\n\t [[{{node StatefulPartitionedCall/WordpieceTokenizeWithOffsets/WordpieceTokenizeWithOffsets/WordpieceTokenizeWithOffsets}}]]\n\t [[StatefulPartitionedCall/RaggedFromRowSplits_2/RowPartitionFromRowSplits/assert_equal_1/Assert/AssertGuard/else/_67/RaggedFromRowSplits_2/RowPartitionFromRowSplits/assert_equal_1/Assert/AssertGuard/Assert/data_4/_254]]\n0 successful operations.\n0 derived errors ignored. [Op:__inference_restored_function_body_3436]\n\nFunction call stack:\nrestored_function_body -> restored_function_body\n",
     "output_type": "error",
     "traceback": [
      "\u001b[1;31m---------------------------------------------------------------------------\u001b[0m",
      "\u001b[1;31mInvalidArgumentError\u001b[0m                      Traceback (most recent call last)",
      "\u001b[1;32m<ipython-input-12-a6d85c771d1f>\u001b[0m in \u001b[0;36m<module>\u001b[1;34m\u001b[0m\n\u001b[1;32m----> 1\u001b[1;33m \u001b[0mencoded\u001b[0m \u001b[1;33m=\u001b[0m \u001b[0mtokenizers\u001b[0m\u001b[1;33m.\u001b[0m\u001b[0men\u001b[0m\u001b[1;33m.\u001b[0m\u001b[0mtokenize\u001b[0m\u001b[1;33m(\u001b[0m\u001b[0men_examples\u001b[0m\u001b[1;33m)\u001b[0m\u001b[1;33m\u001b[0m\u001b[1;33m\u001b[0m\u001b[0m\n\u001b[0m\u001b[0;32m      2\u001b[0m \u001b[1;32mfor\u001b[0m \u001b[0mrow\u001b[0m \u001b[1;32min\u001b[0m \u001b[0mencoded\u001b[0m\u001b[1;33m.\u001b[0m\u001b[0mto_list\u001b[0m\u001b[1;33m(\u001b[0m\u001b[1;33m)\u001b[0m\u001b[1;33m:\u001b[0m\u001b[1;33m\u001b[0m\u001b[1;33m\u001b[0m\u001b[0m\n\u001b[0;32m      3\u001b[0m     \u001b[0mprint\u001b[0m\u001b[1;33m(\u001b[0m\u001b[0mrow\u001b[0m\u001b[1;33m)\u001b[0m\u001b[1;33m\u001b[0m\u001b[1;33m\u001b[0m\u001b[0m\n",
      "\u001b[1;32mc:\\users\\kye09\\appdata\\local\\programs\\python\\python38\\lib\\site-packages\\tensorflow\\python\\eager\\def_function.py\u001b[0m in \u001b[0;36m__call__\u001b[1;34m(self, *args, **kwds)\u001b[0m\n\u001b[0;32m    826\u001b[0m     \u001b[0mtracing_count\u001b[0m \u001b[1;33m=\u001b[0m \u001b[0mself\u001b[0m\u001b[1;33m.\u001b[0m\u001b[0mexperimental_get_tracing_count\u001b[0m\u001b[1;33m(\u001b[0m\u001b[1;33m)\u001b[0m\u001b[1;33m\u001b[0m\u001b[1;33m\u001b[0m\u001b[0m\n\u001b[0;32m    827\u001b[0m     \u001b[1;32mwith\u001b[0m \u001b[0mtrace\u001b[0m\u001b[1;33m.\u001b[0m\u001b[0mTrace\u001b[0m\u001b[1;33m(\u001b[0m\u001b[0mself\u001b[0m\u001b[1;33m.\u001b[0m\u001b[0m_name\u001b[0m\u001b[1;33m)\u001b[0m \u001b[1;32mas\u001b[0m \u001b[0mtm\u001b[0m\u001b[1;33m:\u001b[0m\u001b[1;33m\u001b[0m\u001b[1;33m\u001b[0m\u001b[0m\n\u001b[1;32m--> 828\u001b[1;33m       \u001b[0mresult\u001b[0m \u001b[1;33m=\u001b[0m \u001b[0mself\u001b[0m\u001b[1;33m.\u001b[0m\u001b[0m_call\u001b[0m\u001b[1;33m(\u001b[0m\u001b[1;33m*\u001b[0m\u001b[0margs\u001b[0m\u001b[1;33m,\u001b[0m \u001b[1;33m**\u001b[0m\u001b[0mkwds\u001b[0m\u001b[1;33m)\u001b[0m\u001b[1;33m\u001b[0m\u001b[1;33m\u001b[0m\u001b[0m\n\u001b[0m\u001b[0;32m    829\u001b[0m       \u001b[0mcompiler\u001b[0m \u001b[1;33m=\u001b[0m \u001b[1;34m\"xla\"\u001b[0m \u001b[1;32mif\u001b[0m \u001b[0mself\u001b[0m\u001b[1;33m.\u001b[0m\u001b[0m_experimental_compile\u001b[0m \u001b[1;32melse\u001b[0m \u001b[1;34m\"nonXla\"\u001b[0m\u001b[1;33m\u001b[0m\u001b[1;33m\u001b[0m\u001b[0m\n\u001b[0;32m    830\u001b[0m       \u001b[0mnew_tracing_count\u001b[0m \u001b[1;33m=\u001b[0m \u001b[0mself\u001b[0m\u001b[1;33m.\u001b[0m\u001b[0mexperimental_get_tracing_count\u001b[0m\u001b[1;33m(\u001b[0m\u001b[1;33m)\u001b[0m\u001b[1;33m\u001b[0m\u001b[1;33m\u001b[0m\u001b[0m\n",
      "\u001b[1;32mc:\\users\\kye09\\appdata\\local\\programs\\python\\python38\\lib\\site-packages\\tensorflow\\python\\eager\\def_function.py\u001b[0m in \u001b[0;36m_call\u001b[1;34m(self, *args, **kwds)\u001b[0m\n\u001b[0;32m    892\u001b[0m               *args, **kwds)\n\u001b[0;32m    893\u001b[0m       \u001b[1;31m# If we did not create any variables the trace we have is good enough.\u001b[0m\u001b[1;33m\u001b[0m\u001b[1;33m\u001b[0m\u001b[1;33m\u001b[0m\u001b[0m\n\u001b[1;32m--> 894\u001b[1;33m       return self._concrete_stateful_fn._call_flat(\n\u001b[0m\u001b[0;32m    895\u001b[0m           filtered_flat_args, self._concrete_stateful_fn.captured_inputs)  # pylint: disable=protected-access\n\u001b[0;32m    896\u001b[0m \u001b[1;33m\u001b[0m\u001b[0m\n",
      "\u001b[1;32mc:\\users\\kye09\\appdata\\local\\programs\\python\\python38\\lib\\site-packages\\tensorflow\\python\\eager\\function.py\u001b[0m in \u001b[0;36m_call_flat\u001b[1;34m(self, args, captured_inputs, cancellation_manager)\u001b[0m\n\u001b[0;32m   1916\u001b[0m         and executing_eagerly):\n\u001b[0;32m   1917\u001b[0m       \u001b[1;31m# No tape is watching; skip to running the function.\u001b[0m\u001b[1;33m\u001b[0m\u001b[1;33m\u001b[0m\u001b[1;33m\u001b[0m\u001b[0m\n\u001b[1;32m-> 1918\u001b[1;33m       return self._build_call_outputs(self._inference_function.call(\n\u001b[0m\u001b[0;32m   1919\u001b[0m           ctx, args, cancellation_manager=cancellation_manager))\n\u001b[0;32m   1920\u001b[0m     forward_backward = self._select_forward_and_backward_functions(\n",
      "\u001b[1;32mc:\\users\\kye09\\appdata\\local\\programs\\python\\python38\\lib\\site-packages\\tensorflow\\python\\eager\\function.py\u001b[0m in \u001b[0;36mcall\u001b[1;34m(self, ctx, args, cancellation_manager)\u001b[0m\n\u001b[0;32m    553\u001b[0m       \u001b[1;32mwith\u001b[0m \u001b[0m_InterpolateFunctionError\u001b[0m\u001b[1;33m(\u001b[0m\u001b[0mself\u001b[0m\u001b[1;33m)\u001b[0m\u001b[1;33m:\u001b[0m\u001b[1;33m\u001b[0m\u001b[1;33m\u001b[0m\u001b[0m\n\u001b[0;32m    554\u001b[0m         \u001b[1;32mif\u001b[0m \u001b[0mcancellation_manager\u001b[0m \u001b[1;32mis\u001b[0m \u001b[1;32mNone\u001b[0m\u001b[1;33m:\u001b[0m\u001b[1;33m\u001b[0m\u001b[1;33m\u001b[0m\u001b[0m\n\u001b[1;32m--> 555\u001b[1;33m           outputs = execute.execute(\n\u001b[0m\u001b[0;32m    556\u001b[0m               \u001b[0mstr\u001b[0m\u001b[1;33m(\u001b[0m\u001b[0mself\u001b[0m\u001b[1;33m.\u001b[0m\u001b[0msignature\u001b[0m\u001b[1;33m.\u001b[0m\u001b[0mname\u001b[0m\u001b[1;33m)\u001b[0m\u001b[1;33m,\u001b[0m\u001b[1;33m\u001b[0m\u001b[1;33m\u001b[0m\u001b[0m\n\u001b[0;32m    557\u001b[0m               \u001b[0mnum_outputs\u001b[0m\u001b[1;33m=\u001b[0m\u001b[0mself\u001b[0m\u001b[1;33m.\u001b[0m\u001b[0m_num_outputs\u001b[0m\u001b[1;33m,\u001b[0m\u001b[1;33m\u001b[0m\u001b[1;33m\u001b[0m\u001b[0m\n",
      "\u001b[1;32mc:\\users\\kye09\\appdata\\local\\programs\\python\\python38\\lib\\site-packages\\tensorflow\\python\\eager\\execute.py\u001b[0m in \u001b[0;36mquick_execute\u001b[1;34m(op_name, num_outputs, inputs, attrs, ctx, name)\u001b[0m\n\u001b[0;32m     57\u001b[0m   \u001b[1;32mtry\u001b[0m\u001b[1;33m:\u001b[0m\u001b[1;33m\u001b[0m\u001b[1;33m\u001b[0m\u001b[0m\n\u001b[0;32m     58\u001b[0m     \u001b[0mctx\u001b[0m\u001b[1;33m.\u001b[0m\u001b[0mensure_initialized\u001b[0m\u001b[1;33m(\u001b[0m\u001b[1;33m)\u001b[0m\u001b[1;33m\u001b[0m\u001b[1;33m\u001b[0m\u001b[0m\n\u001b[1;32m---> 59\u001b[1;33m     tensors = pywrap_tfe.TFE_Py_Execute(ctx._handle, device_name, op_name,\n\u001b[0m\u001b[0;32m     60\u001b[0m                                         inputs, attrs, num_outputs)\n\u001b[0;32m     61\u001b[0m   \u001b[1;32mexcept\u001b[0m \u001b[0mcore\u001b[0m\u001b[1;33m.\u001b[0m\u001b[0m_NotOkStatusException\u001b[0m \u001b[1;32mas\u001b[0m \u001b[0me\u001b[0m\u001b[1;33m:\u001b[0m\u001b[1;33m\u001b[0m\u001b[1;33m\u001b[0m\u001b[0m\n",
      "\u001b[1;31mInvalidArgumentError\u001b[0m: 2 root error(s) found.\n  (0) Invalid argument:  Trying to access resource using the wrong type. Expected class tensorflow::lookup::LookupInterface got class tensorflow::lookup::LookupInterface\n\t [[{{node StatefulPartitionedCall/WordpieceTokenizeWithOffsets/WordpieceTokenizeWithOffsets/WordpieceTokenizeWithOffsets}}]]\n  (1) Invalid argument:  Trying to access resource using the wrong type. Expected class tensorflow::lookup::LookupInterface got class tensorflow::lookup::LookupInterface\n\t [[{{node StatefulPartitionedCall/WordpieceTokenizeWithOffsets/WordpieceTokenizeWithOffsets/WordpieceTokenizeWithOffsets}}]]\n\t [[StatefulPartitionedCall/RaggedFromRowSplits_2/RowPartitionFromRowSplits/assert_equal_1/Assert/AssertGuard/else/_67/RaggedFromRowSplits_2/RowPartitionFromRowSplits/assert_equal_1/Assert/AssertGuard/Assert/data_4/_254]]\n0 successful operations.\n0 derived errors ignored. [Op:__inference_restored_function_body_3436]\n\nFunction call stack:\nrestored_function_body -> restored_function_body\n"
     ]
    }
   ],
   "source": [
    "encoded = tokenizers.en.tokenize(en_examples)\n",
    "for row in encoded.to_list():\n",
    "    print(row)"
   ]
  },
  {
   "cell_type": "markdown",
   "metadata": {
    "id": "dBRlikwDR2Lu"
   },
   "source": [
    "The `detokenize` method 사용하면 다시 text로 변환해줌."
   ]
  },
  {
   "cell_type": "code",
   "execution_count": 16,
   "metadata": {
    "id": "Tpqx1aug3W31"
   },
   "outputs": [
    {
     "ename": "NameError",
     "evalue": "name 'encoded' is not defined",
     "output_type": "error",
     "traceback": [
      "\u001b[1;31m---------------------------------------------------------------------------\u001b[0m",
      "\u001b[1;31mNameError\u001b[0m                                 Traceback (most recent call last)",
      "\u001b[1;32m<ipython-input-16-17a7e62f3836>\u001b[0m in \u001b[0;36m<module>\u001b[1;34m\u001b[0m\n\u001b[1;32m----> 1\u001b[1;33m \u001b[0mround_trip\u001b[0m \u001b[1;33m=\u001b[0m \u001b[0mtokenizers\u001b[0m\u001b[1;33m.\u001b[0m\u001b[0men\u001b[0m\u001b[1;33m.\u001b[0m\u001b[0mdetokenize\u001b[0m\u001b[1;33m(\u001b[0m\u001b[0mencoded\u001b[0m\u001b[1;33m)\u001b[0m\u001b[1;33m\u001b[0m\u001b[1;33m\u001b[0m\u001b[0m\n\u001b[0m\u001b[0;32m      2\u001b[0m \u001b[1;32mfor\u001b[0m \u001b[0mline\u001b[0m \u001b[1;32min\u001b[0m \u001b[0mround_trip\u001b[0m\u001b[1;33m.\u001b[0m\u001b[0mnumpy\u001b[0m\u001b[1;33m(\u001b[0m\u001b[1;33m)\u001b[0m\u001b[1;33m:\u001b[0m\u001b[1;33m\u001b[0m\u001b[1;33m\u001b[0m\u001b[0m\n\u001b[0;32m      3\u001b[0m     \u001b[0mprint\u001b[0m\u001b[1;33m(\u001b[0m\u001b[0mline\u001b[0m\u001b[1;33m.\u001b[0m\u001b[0mdecode\u001b[0m\u001b[1;33m(\u001b[0m\u001b[1;34m'utf-8'\u001b[0m\u001b[1;33m)\u001b[0m\u001b[1;33m)\u001b[0m\u001b[1;33m\u001b[0m\u001b[1;33m\u001b[0m\u001b[0m\n",
      "\u001b[1;31mNameError\u001b[0m: name 'encoded' is not defined"
     ]
    }
   ],
   "source": [
    "round_trip = tokenizers.en.detokenize(encoded)\n",
    "for line in round_trip.numpy():\n",
    "    print(line.decode('utf-8'))"
   ]
  },
  {
   "cell_type": "markdown",
   "metadata": {
    "id": "e5mGvytArL9g"
   },
   "source": [
    "The lower level `lookup` method converts from token-IDs to token text:"
   ]
  },
  {
   "cell_type": "code",
   "execution_count": null,
   "metadata": {
    "id": "RpzRLzvIuN3R"
   },
   "outputs": [],
   "source": [
    "tokens = tokenizers.en.lookup(encoded)\n",
    "tokens"
   ]
  },
  {
   "cell_type": "markdown",
   "metadata": {
    "id": "5V8Ix_PNSfhV"
   },
   "source": [
    "Here you can see the \"subword\" aspect of the tokenizers. The word \"searchability\" is decomposed into \"search ##ability\" and the word \"serindipity\" into \"s ##ere ##nd ##ip ##ity\""
   ]
  },
  {
   "cell_type": "markdown",
   "metadata": {
    "id": "fd1NWMxjfsDd"
   },
   "source": [
    "## Setup input pipeline"
   ]
  },
  {
   "cell_type": "markdown",
   "metadata": {
    "id": "E7JHK7N7tNZy"
   },
   "source": [
    "To build an input pipeline suitable for training you'll apply some transformations to the dataset.\n",
    "\n",
    "This function will be used to encode the batches of raw text:"
   ]
  },
  {
   "cell_type": "code",
   "execution_count": 15,
   "metadata": {
    "id": "6shgzEck3FiV"
   },
   "outputs": [],
   "source": [
    "def tokenize_pairs(pt, en):\n",
    "    pt = tokenizers.pt.tokenize(pt)\n",
    "    # Convert from ragged to dense, padding with zeros.\n",
    "    pt = pt.to_tensor()\n",
    "\n",
    "    en = tokenizers.en.tokenize(en)\n",
    "    # Convert from ragged to dense, padding with zeros.\n",
    "    en = en.to_tensor()\n",
    "    return pt, en"
   ]
  },
  {
   "cell_type": "markdown",
   "metadata": {
    "id": "cf2HwC_0wG0v"
   },
   "source": [
    "Here's a simple input pipeline that processes, shuffles and batches the data:"
   ]
  },
  {
   "cell_type": "code",
   "execution_count": 16,
   "metadata": {
    "id": "bcRp7VcQ5m6g"
   },
   "outputs": [],
   "source": [
    "BUFFER_SIZE = 20000  # 버퍼: 파일 이동이나 다른 작업을 위해 임시로 사용되어지는 메모리\n",
    "BATCH_SIZE = 64"
   ]
  },
  {
   "cell_type": "code",
   "execution_count": 17,
   "metadata": {},
   "outputs": [
    {
     "data": {
      "text/plain": [
       "'\\ndef shuffle\\nThis dataset fills a buffer with `buffer_size` elements, then randomly\\nsamples elements from this buffer, replacing the selected elements with new\\nelements. For perfect shuffling, a buffer size greater than or equal to the\\nfull size of the dataset is required.\\n'"
      ]
     },
     "execution_count": 17,
     "metadata": {},
     "output_type": "execute_result"
    }
   ],
   "source": [
    "'''\n",
    "def shuffle\n",
    "This dataset fills a buffer with `buffer_size` elements, then randomly\n",
    "samples elements from this buffer, replacing the selected elements with new\n",
    "elements. For perfect shuffling, a buffer size greater than or equal to the\n",
    "full size of the dataset is required.\n",
    "'''"
   ]
  },
  {
   "cell_type": "code",
   "execution_count": 18,
   "metadata": {
    "id": "BUN_jLBTwNxk"
   },
   "outputs": [],
   "source": [
    "# en - pt 짝을 유지한 채로 shuffle하고 batch 생성.\n",
    "\n",
    "def make_batches(ds):\n",
    "    return (\n",
    "      ds\n",
    "      .cache()\n",
    "      .shuffle(BUFFER_SIZE) \n",
    "      .batch(BATCH_SIZE)\n",
    "      .map(tokenize_pairs, num_parallel_calls=tf.data.AUTOTUNE)\n",
    "      .prefetch(tf.data.AUTOTUNE))\n",
    "\n",
    "\n",
    "train_batches = make_batches(train_examples)\n",
    "val_batches = make_batches(val_examples)"
   ]
  },
  {
   "cell_type": "markdown",
   "metadata": {},
   "source": [
    "Tokenizer does not work on Windows.  이거 안됨 아직"
   ]
  },
  {
   "cell_type": "markdown",
   "metadata": {
    "id": "nBQuibYA4n0n"
   },
   "source": [
    "## Positional encoding\n",
    "\n",
    "Since this model doesn't contain any recurrence or convolution, positional encoding is added to give the model some information about the relative position of the words in the sentence. \n",
    "\n",
    "The positional encoding vector is added to the embedding vector. Embeddings represent a token in a d-dimensional space where tokens with similar meaning will be closer to each other. But the embeddings do not encode the relative position of words in a sentence. So after adding the positional encoding, words will be closer to each other based on the *similarity of their meaning and their position in the sentence*, in the d-dimensional space.\n",
    "\n",
    "The formula for calculating the positional encoding is as follows:\n",
    "\n",
    "$$\\Large{PE_{(pos, 2i)} = \\sin(pos / 10000^{2i / d_{model}})} $$\n",
    "$$\\Large{PE_{(pos, 2i+1)} = \\cos(pos / 10000^{2i / d_{model}})} $$"
   ]
  },
  {
   "cell_type": "code",
   "execution_count": 30,
   "metadata": {
    "id": "WhIOZjMNKujn"
   },
   "outputs": [],
   "source": [
    "def get_angles(pos, i, d_model):\n",
    "    angle_rates = 1 / np.power(10000, (2 * (i//2)) / np.float32(d_model))\n",
    "    return pos * angle_rates"
   ]
  },
  {
   "cell_type": "code",
   "execution_count": 31,
   "metadata": {
    "id": "1Rz82wEs5biZ"
   },
   "outputs": [],
   "source": [
    "def positional_encoding(position, d_model):\n",
    "    angle_rads = get_angles(np.arange(position)[:, np.newaxis],\n",
    "                          np.arange(d_model)[np.newaxis, :],\n",
    "                          d_model)\n",
    "\n",
    "    # apply sin to even indices in the array; 2i\n",
    "    angle_rads[:, 0::2] = np.sin(angle_rads[:, 0::2])\n",
    "\n",
    "    # apply cos to odd indices in the array; 2i+1\n",
    "    angle_rads[:, 1::2] = np.cos(angle_rads[:, 1::2])\n",
    "\n",
    "    pos_encoding = angle_rads[np.newaxis, ...]\n",
    "\n",
    "    return tf.cast(pos_encoding, dtype=tf.float32)"
   ]
  },
  {
   "cell_type": "code",
   "execution_count": 32,
   "metadata": {
    "id": "1kLCla68EloE"
   },
   "outputs": [
    {
     "name": "stdout",
     "output_type": "stream",
     "text": [
      "(1, 2048, 512)\n"
     ]
    },
    {
     "data": {
      "image/png": "[encoded data removed]",
      "text/plain": [
       "<Figure size 432x288 with 2 Axes>"
      ]
     },
     "metadata": {
      "needs_background": "light"
     },
     "output_type": "display_data"
    }
   ],
   "source": [
    "n, d = 2048, 512\n",
    "pos_encoding = positional_encoding(n, d)\n",
    "print(pos_encoding.shape)\n",
    "pos_encoding = pos_encoding[0]\n",
    "\n",
    "# Juggle the dimensions for the plot\n",
    "pos_encoding = tf.reshape(pos_encoding, (n, d//2, 2))\n",
    "pos_encoding = tf.transpose(pos_encoding, (2, 1, 0))\n",
    "pos_encoding = tf.reshape(pos_encoding, (d, n))\n",
    "\n",
    "plt.pcolormesh(pos_encoding, cmap='RdBu')\n",
    "plt.ylabel('Depth')\n",
    "plt.xlabel('Position')\n",
    "plt.colorbar()\n",
    "plt.show()"
   ]
  },
  {
   "cell_type": "markdown",
   "metadata": {
    "id": "a_b4ou4TYqUN"
   },
   "source": [
    "## Masking"
   ]
  },
  {
   "cell_type": "markdown",
   "metadata": {
    "id": "s42Uydjkv0hF"
   },
   "source": [
    "Mask all the pad tokens in the batch of sequence. It ensures that the model does not treat padding as the input. The mask indicates where pad value `0` is present: it outputs a `1` at those locations, and a `0` otherwise."
   ]
  },
  {
   "cell_type": "code",
   "execution_count": 20,
   "metadata": {
    "execution": {
     "iopub.execute_input": "2021-04-23T01:28:49.755893Z",
     "iopub.status.busy": "2021-04-23T01:28:49.755163Z",
     "iopub.status.idle": "2021-04-23T01:28:49.756979Z",
     "shell.execute_reply": "2021-04-23T01:28:49.757402Z"
    },
    "id": "U2i8-e1s8ti9"
   },
   "outputs": [],
   "source": [
    "def create_padding_mask(seq):\n",
    "    seq = tf.cast(tf.math.equal(seq, 0), tf.float32)\n",
    "\n",
    "    # add extra dimensions to add the padding\n",
    "    # to the attention logits.\n",
    "    return seq[:, tf.newaxis, tf.newaxis, :]  # (batch_size, 1, 1, seq_len)"
   ]
  },
  {
   "cell_type": "code",
   "execution_count": 21,
   "metadata": {
    "execution": {
     "iopub.execute_input": "2021-04-23T01:28:49.762542Z",
     "iopub.status.busy": "2021-04-23T01:28:49.761572Z",
     "iopub.status.idle": "2021-04-23T01:28:49.767237Z",
     "shell.execute_reply": "2021-04-23T01:28:49.766642Z"
    },
    "id": "A7BYeBCNvi7n"
   },
   "outputs": [
    {
     "data": {
      "text/plain": [
       "<tf.Tensor: shape=(3, 1, 1, 5), dtype=float32, numpy=\n",
       "array([[[[0., 0., 1., 1., 0.]]],\n",
       "\n",
       "\n",
       "       [[[0., 0., 0., 1., 1.]]],\n",
       "\n",
       "\n",
       "       [[[1., 1., 1., 0., 0.]]]], dtype=float32)>"
      ]
     },
     "execution_count": 1,
     "metadata": {},
     "output_type": "execute_result"
    }
   ],
   "source": [
    "x = tf.constant([[7, 6, 0, 0, 1], [1, 2, 3, 0, 0], [0, 0, 0, 4, 5]])\n",
    "create_padding_mask(x)"
   ]
  },
  {
   "cell_type": "markdown",
   "metadata": {
    "id": "Z0hzukDBgVom"
   },
   "source": [
    "The look-ahead mask is used to mask the future tokens in a sequence. In other words, the mask indicates which entries should not be used.\n",
    "\n",
    "This means that to predict the third word, only the first and second word will be used. Similarly to predict the fourth word, only the first, second and the third word will be used and so on."
   ]
  },
  {
   "cell_type": "code",
   "execution_count": 22,
   "metadata": {
    "execution": {
     "iopub.execute_input": "2021-04-23T01:28:49.772229Z",
     "iopub.status.busy": "2021-04-23T01:28:49.771592Z",
     "iopub.status.idle": "2021-04-23T01:28:49.773911Z",
     "shell.execute_reply": "2021-04-23T01:28:49.773397Z"
    },
    "id": "dVxS8OPI9uI0"
   },
   "outputs": [],
   "source": [
    "def create_look_ahead_mask(size):\n",
    "    mask = 1 - tf.linalg.band_part(tf.ones((size, size)), -1, 0)\n",
    "    return mask  # (seq_len, seq_len)"
   ]
  },
  {
   "cell_type": "code",
   "execution_count": 23,
   "metadata": {
    "execution": {
     "iopub.execute_input": "2021-04-23T01:28:49.778665Z",
     "iopub.status.busy": "2021-04-23T01:28:49.777975Z",
     "iopub.status.idle": "2021-04-23T01:28:49.782809Z",
     "shell.execute_reply": "2021-04-23T01:28:49.783211Z"
    },
    "id": "yxKGuXxaBeeE"
   },
   "outputs": [
    {
     "data": {
      "text/plain": [
       "<tf.Tensor: shape=(3, 3), dtype=float32, numpy=\n",
       "array([[0., 1., 1.],\n",
       "       [0., 0., 1.],\n",
       "       [0., 0., 0.]], dtype=float32)>"
      ]
     },
     "execution_count": 1,
     "metadata": {},
     "output_type": "execute_result"
    }
   ],
   "source": [
    "x = tf.random.uniform((1, 3))\n",
    "temp = create_look_ahead_mask(x.shape[1])\n",
    "temp"
   ]
  },
  {
   "cell_type": "markdown",
   "metadata": {
    "id": "xluDl5cXYy4y"
   },
   "source": [
    "## Scaled dot product attention"
   ]
  },
  {
   "cell_type": "markdown",
   "metadata": {
    "id": "vsxEE_-Wa1gF"
   },
   "source": [
    "<img src=\"https://www.tensorflow.org/images/tutorials/transformer/scaled_attention.png\" width=\"500\" alt=\"scaled_dot_product_attention\">\n",
    "\n",
    "The attention function used by the transformer takes three inputs: Q (query), K (key), V (value). The equation used to calculate the attention weights is:\n",
    "\n",
    "$$\\Large{Attention(Q, K, V) = softmax_k\\left(\\frac{QK^T}{\\sqrt{d_k}}\\right) V} $$\n",
    "\n",
    "The dot-product attention is scaled by a factor of square root of the depth. This is done because for large values of depth, the dot product grows large in magnitude pushing the softmax function where it has small gradients resulting in a very hard softmax. \n",
    "\n",
    "For example, consider that `Q` and `K` have a mean of 0 and variance of 1. Their matrix multiplication will have a mean of 0 and variance of `dk`. So the *square root of `dk`* is used for scaling, so you get a consistent variance regardless of the value of `dk`. If the variance is too low the output may be too flat to optimize effectively. If the variance is too high the softmax may saturate at initilization making it dificult to learn. \n",
    "\n",
    "The mask is multiplied with -1e9 (close to negative infinity). This is done because the mask is summed with the scaled matrix multiplication of Q and K and is applied immediately before a softmax. The goal is to zero out these cells, and large negative inputs to softmax are near zero in the output."
   ]
  },
  {
   "cell_type": "code",
   "execution_count": 24,
   "metadata": {
    "execution": {
     "iopub.execute_input": "2021-04-23T01:28:49.790473Z",
     "iopub.status.busy": "2021-04-23T01:28:49.789789Z",
     "iopub.status.idle": "2021-04-23T01:28:49.791916Z",
     "shell.execute_reply": "2021-04-23T01:28:49.791455Z"
    },
    "id": "LazzUq3bJ5SH"
   },
   "outputs": [],
   "source": [
    "def scaled_dot_product_attention(q, k, v, mask):\n",
    "    \"\"\"Calculate the attention weights.\n",
    "    q, k, v must have matching leading dimensions.\n",
    "    k, v must have matching penultimate dimension, i.e.: seq_len_k = seq_len_v.\n",
    "    The mask has different shapes depending on its type(padding or look ahead)\n",
    "    but it must be broadcastable for addition.\n",
    "\n",
    "    Args:\n",
    "    q: query shape == (..., seq_len_q, depth)\n",
    "    k: key shape == (..., seq_len_k, depth)\n",
    "    v: value shape == (..., seq_len_v, depth_v)\n",
    "    mask: Float tensor with shape broadcastable\n",
    "          to (..., seq_len_q, seq_len_k). Defaults to None.\n",
    "\n",
    "    Returns:\n",
    "    output, attention_weights\n",
    "    \"\"\"\n",
    "\n",
    "    matmul_qk = tf.matmul(q, k, transpose_b=True)  # (..., seq_len_q, seq_len_k)\n",
    "\n",
    "    # scale matmul_qk\n",
    "    dk = tf.cast(tf.shape(k)[-1], tf.float32)\n",
    "    scaled_attention_logits = matmul_qk / tf.math.sqrt(dk)\n",
    "\n",
    "    # add the mask to the scaled tensor.\n",
    "    if mask is not None:\n",
    "        scaled_attention_logits += (mask * -1e9)\n",
    "\n",
    "    # softmax is normalized on the last axis (seq_len_k) so that the scores\n",
    "    # add up to 1.\n",
    "    attention_weights = tf.nn.softmax(scaled_attention_logits, axis=-1)  # (..., seq_len_q, seq_len_k)\n",
    "\n",
    "    output = tf.matmul(attention_weights, v)  # (..., seq_len_q, depth_v)\n",
    "\n",
    "    return output, attention_weights"
   ]
  },
  {
   "cell_type": "markdown",
   "metadata": {
    "id": "FiqETnhCkoXh"
   },
   "source": [
    "As the softmax normalization is done on K, its values decide the amount of importance given to Q.\n",
    "\n",
    "The output represents the multiplication of the attention weights and the V (value) vector. This ensures that the words you want to focus on are kept as-is and the irrelevant words are flushed out."
   ]
  },
  {
   "cell_type": "code",
   "execution_count": 25,
   "metadata": {
    "execution": {
     "iopub.execute_input": "2021-04-23T01:28:49.797039Z",
     "iopub.status.busy": "2021-04-23T01:28:49.796378Z",
     "iopub.status.idle": "2021-04-23T01:28:49.798074Z",
     "shell.execute_reply": "2021-04-23T01:28:49.798494Z"
    },
    "id": "n90YjClyInFy"
   },
   "outputs": [],
   "source": [
    "def print_out(q, k, v):\n",
    "    temp_out, temp_attn = scaled_dot_product_attention(\n",
    "      q, k, v, None)\n",
    "    print('Attention weights are:')\n",
    "    print(temp_attn)\n",
    "    print('Output is:')\n",
    "    print(temp_out)"
   ]
  },
  {
   "cell_type": "code",
   "execution_count": 26,
   "metadata": {
    "execution": {
     "iopub.execute_input": "2021-04-23T01:28:49.804885Z",
     "iopub.status.busy": "2021-04-23T01:28:49.804190Z",
     "iopub.status.idle": "2021-04-23T01:28:50.225923Z",
     "shell.execute_reply": "2021-04-23T01:28:50.225295Z"
    },
    "id": "yAzUAf2DPlNt"
   },
   "outputs": [
    {
     "name": "stdout",
     "output_type": "stream",
     "text": [
      "Attention weights are:\n",
      "tf.Tensor([[0. 1. 0. 0.]], shape=(1, 4), dtype=float32)\n",
      "Output is:\n",
      "tf.Tensor([[10.  0.]], shape=(1, 2), dtype=float32)\n"
     ]
    }
   ],
   "source": [
    "np.set_printoptions(suppress=True)\n",
    "\n",
    "temp_k = tf.constant([[10, 0, 0],\n",
    "                      [0, 10, 0],\n",
    "                      [0, 0, 10],\n",
    "                      [0, 0, 10]], dtype=tf.float32)  # (4, 3)\n",
    "\n",
    "temp_v = tf.constant([[1, 0],\n",
    "                      [10, 0],\n",
    "                      [100, 5],\n",
    "                      [1000, 6]], dtype=tf.float32)  # (4, 2)\n",
    "\n",
    "# This `query` aligns with the second `key`,\n",
    "# so the second `value` is returned.\n",
    "temp_q = tf.constant([[0, 10, 0]], dtype=tf.float32)  # (1, 3)\n",
    "print_out(temp_q, temp_k, temp_v)"
   ]
  },
  {
   "cell_type": "code",
   "execution_count": 27,
   "metadata": {
    "execution": {
     "iopub.execute_input": "2021-04-23T01:28:50.230968Z",
     "iopub.status.busy": "2021-04-23T01:28:50.230250Z",
     "iopub.status.idle": "2021-04-23T01:28:50.235427Z",
     "shell.execute_reply": "2021-04-23T01:28:50.234979Z"
    },
    "id": "zg6k-fGhgXra"
   },
   "outputs": [
    {
     "name": "stdout",
     "output_type": "stream",
     "text": [
      "Attention weights are:\n",
      "tf.Tensor([[0.  0.  0.5 0.5]], shape=(1, 4), dtype=float32)\n",
      "Output is:\n",
      "tf.Tensor([[550.    5.5]], shape=(1, 2), dtype=float32)\n"
     ]
    }
   ],
   "source": [
    "# This query aligns with a repeated key (third and fourth),\n",
    "# so all associated values get averaged.\n",
    "temp_q = tf.constant([[0, 0, 10]], dtype=tf.float32)  # (1, 3)\n",
    "print_out(temp_q, temp_k, temp_v)"
   ]
  },
  {
   "cell_type": "code",
   "execution_count": 28,
   "metadata": {
    "execution": {
     "iopub.execute_input": "2021-04-23T01:28:50.240195Z",
     "iopub.status.busy": "2021-04-23T01:28:50.239554Z",
     "iopub.status.idle": "2021-04-23T01:28:50.244513Z",
     "shell.execute_reply": "2021-04-23T01:28:50.244019Z"
    },
    "id": "UAq3YOzUgXhb"
   },
   "outputs": [
    {
     "name": "stdout",
     "output_type": "stream",
     "text": [
      "Attention weights are:\n",
      "tf.Tensor([[0.5 0.5 0.  0. ]], shape=(1, 4), dtype=float32)\n",
      "Output is:\n",
      "tf.Tensor([[5.5 0. ]], shape=(1, 2), dtype=float32)\n"
     ]
    }
   ],
   "source": [
    "# This query aligns equally with the first and second key,\n",
    "# so their values get averaged.\n",
    "temp_q = tf.constant([[10, 10, 0]], dtype=tf.float32)  # (1, 3)\n",
    "print_out(temp_q, temp_k, temp_v)"
   ]
  },
  {
   "cell_type": "markdown",
   "metadata": {
    "id": "aOz-4_XIhaTP"
   },
   "source": [
    "Pass all the queries together."
   ]
  },
  {
   "cell_type": "code",
   "execution_count": 29,
   "metadata": {
    "execution": {
     "iopub.execute_input": "2021-04-23T01:28:50.249417Z",
     "iopub.status.busy": "2021-04-23T01:28:50.248757Z",
     "iopub.status.idle": "2021-04-23T01:28:50.253860Z",
     "shell.execute_reply": "2021-04-23T01:28:50.253338Z"
    },
    "id": "6dlU8Tm-hYrF"
   },
   "outputs": [
    {
     "name": "stdout",
     "output_type": "stream",
     "text": [
      "Attention weights are:\n",
      "tf.Tensor(\n",
      "[[0.  0.  0.5 0.5]\n",
      " [0.  1.  0.  0. ]\n",
      " [0.5 0.5 0.  0. ]], shape=(3, 4), dtype=float32)\n",
      "Output is:\n",
      "tf.Tensor(\n",
      "[[550.    5.5]\n",
      " [ 10.    0. ]\n",
      " [  5.5   0. ]], shape=(3, 2), dtype=float32)\n"
     ]
    }
   ],
   "source": [
    "temp_q = tf.constant([[0, 0, 10],\n",
    "                      [0, 10, 0],\n",
    "                      [10, 10, 0]], dtype=tf.float32)  # (3, 3)\n",
    "print_out(temp_q, temp_k, temp_v)"
   ]
  },
  {
   "cell_type": "markdown",
   "metadata": {
    "id": "kmzGPEy64qmA"
   },
   "source": [
    "## Multi-head attention"
   ]
  },
  {
   "cell_type": "markdown",
   "metadata": {
    "id": "fz5BMC8Kaoqo"
   },
   "source": [
    "<img src=\"https://www.tensorflow.org/images/tutorials/transformer/multi_head_attention.png\" width=\"500\" alt=\"multi-head attention\">\n",
    "\n",
    "\n",
    "Multi-head attention consists of four parts:\n",
    "*    Linear layers and split into heads.\n",
    "*    Scaled dot-product attention.\n",
    "*    Concatenation of heads.\n",
    "*    Final linear layer."
   ]
  },
  {
   "cell_type": "markdown",
   "metadata": {
    "id": "JPmbr6F1C-v_"
   },
   "source": [
    "Each multi-head attention block gets three inputs; Q (query), K (key), V (value). These are put through linear (Dense) layers and split up into multiple heads. \n",
    "\n",
    "The `scaled_dot_product_attention` defined above is applied to each head (broadcasted for efficiency). An appropriate mask must be used in the attention step.  The attention output for each head is then concatenated (using `tf.transpose`, and `tf.reshape`) and put through a final `Dense` layer.\n",
    "\n",
    "Instead of one single attention head, Q, K, and V are split into multiple heads because it allows the model to jointly attend to information at different positions from different representational spaces. After the split each head has a reduced dimensionality, so the total computation cost is the same as a single head attention with full dimensionality."
   ]
  },
  {
   "cell_type": "code",
   "execution_count": 30,
   "metadata": {
    "execution": {
     "iopub.execute_input": "2021-04-23T01:28:50.265049Z",
     "iopub.status.busy": "2021-04-23T01:28:50.264351Z",
     "iopub.status.idle": "2021-04-23T01:28:50.266491Z",
     "shell.execute_reply": "2021-04-23T01:28:50.265969Z"
    },
    "id": "BSV3PPKsYecw"
   },
   "outputs": [],
   "source": [
    "class MultiHeadAttention(tf.keras.layers.Layer):\n",
    "  def __init__(self, d_model, num_heads):\n",
    "    super(MultiHeadAttention, self).__init__()\n",
    "    self.num_heads = num_heads\n",
    "    self.d_model = d_model\n",
    "\n",
    "    assert d_model % self.num_heads == 0\n",
    "\n",
    "    self.depth = d_model // self.num_heads\n",
    "\n",
    "    self.wq = tf.keras.layers.Dense(d_model)\n",
    "    self.wk = tf.keras.layers.Dense(d_model)\n",
    "    self.wv = tf.keras.layers.Dense(d_model)\n",
    "\n",
    "    self.dense = tf.keras.layers.Dense(d_model)\n",
    "\n",
    "  def split_heads(self, x, batch_size):\n",
    "    \"\"\"Split the last dimension into (num_heads, depth).\n",
    "    Transpose the result such that the shape is (batch_size, num_heads, seq_len, depth)\n",
    "    \"\"\"\n",
    "    x = tf.reshape(x, (batch_size, -1, self.num_heads, self.depth))\n",
    "    return tf.transpose(x, perm=[0, 2, 1, 3])\n",
    "\n",
    "  def call(self, v, k, q, mask):\n",
    "    batch_size = tf.shape(q)[0]\n",
    "\n",
    "    q = self.wq(q)  # (batch_size, seq_len, d_model)\n",
    "    k = self.wk(k)  # (batch_size, seq_len, d_model)\n",
    "    v = self.wv(v)  # (batch_size, seq_len, d_model)\n",
    "\n",
    "    q = self.split_heads(q, batch_size)  # (batch_size, num_heads, seq_len_q, depth)\n",
    "    k = self.split_heads(k, batch_size)  # (batch_size, num_heads, seq_len_k, depth)\n",
    "    v = self.split_heads(v, batch_size)  # (batch_size, num_heads, seq_len_v, depth)\n",
    "\n",
    "    # scaled_attention.shape == (batch_size, num_heads, seq_len_q, depth)\n",
    "    # attention_weights.shape == (batch_size, num_heads, seq_len_q, seq_len_k)\n",
    "    scaled_attention, attention_weights = scaled_dot_product_attention(\n",
    "        q, k, v, mask)\n",
    "\n",
    "    scaled_attention = tf.transpose(scaled_attention, perm=[0, 2, 1, 3])  # (batch_size, seq_len_q, num_heads, depth)\n",
    "\n",
    "    concat_attention = tf.reshape(scaled_attention,\n",
    "                                  (batch_size, -1, self.d_model))  # (batch_size, seq_len_q, d_model)\n",
    "\n",
    "    output = self.dense(concat_attention)  # (batch_size, seq_len_q, d_model)\n",
    "\n",
    "    return output, attention_weights"
   ]
  },
  {
   "cell_type": "markdown",
   "metadata": {
    "id": "0D8FJue5lDyZ"
   },
   "source": [
    "Create a `MultiHeadAttention` layer to try out. At each location in the sequence, `y`, the `MultiHeadAttention` runs all 8 attention heads across all other locations in the sequence, returning a new vector of the same length at each location."
   ]
  },
  {
   "cell_type": "code",
   "execution_count": 31,
   "metadata": {
    "execution": {
     "iopub.execute_input": "2021-04-23T01:28:50.271550Z",
     "iopub.status.busy": "2021-04-23T01:28:50.270932Z",
     "iopub.status.idle": "2021-04-23T01:28:50.307320Z",
     "shell.execute_reply": "2021-04-23T01:28:50.306698Z"
    },
    "id": "Hu94p-_-2_BX"
   },
   "outputs": [
    {
     "data": {
      "text/plain": [
       "(TensorShape([1, 60, 512]), TensorShape([1, 8, 60, 60]))"
      ]
     },
     "execution_count": 1,
     "metadata": {},
     "output_type": "execute_result"
    }
   ],
   "source": [
    "temp_mha = MultiHeadAttention(d_model=512, num_heads=8)\n",
    "y = tf.random.uniform((1, 60, 512))  # (batch_size, encoder_sequence, d_model)\n",
    "out, attn = temp_mha(y, k=y, q=y, mask=None)\n",
    "out.shape, attn.shape"
   ]
  },
  {
   "cell_type": "markdown",
   "metadata": {
    "id": "RdDqGayx67vv"
   },
   "source": [
    "## Point wise feed forward network"
   ]
  },
  {
   "cell_type": "markdown",
   "metadata": {
    "id": "gBqzJXGfHK3X"
   },
   "source": [
    "Point wise feed forward network consists of two fully-connected layers with a ReLU activation in between."
   ]
  },
  {
   "cell_type": "code",
   "execution_count": 32,
   "metadata": {
    "execution": {
     "iopub.execute_input": "2021-04-23T01:28:50.312606Z",
     "iopub.status.busy": "2021-04-23T01:28:50.311922Z",
     "iopub.status.idle": "2021-04-23T01:28:50.314389Z",
     "shell.execute_reply": "2021-04-23T01:28:50.313917Z"
    },
    "id": "ET7xLt0yCT6Z"
   },
   "outputs": [],
   "source": [
    "def point_wise_feed_forward_network(d_model, dff):\n",
    "  return tf.keras.Sequential([\n",
    "      tf.keras.layers.Dense(dff, activation='relu'),  # (batch_size, seq_len, dff)\n",
    "      tf.keras.layers.Dense(d_model)  # (batch_size, seq_len, d_model)\n",
    "  ])"
   ]
  },
  {
   "cell_type": "code",
   "execution_count": 33,
   "metadata": {
    "execution": {
     "iopub.execute_input": "2021-04-23T01:28:50.322670Z",
     "iopub.status.busy": "2021-04-23T01:28:50.321922Z",
     "iopub.status.idle": "2021-04-23T01:28:50.350124Z",
     "shell.execute_reply": "2021-04-23T01:28:50.350502Z"
    },
    "id": "mytb1lPyOHLB"
   },
   "outputs": [
    {
     "data": {
      "text/plain": [
       "TensorShape([64, 50, 512])"
      ]
     },
     "execution_count": 1,
     "metadata": {},
     "output_type": "execute_result"
    }
   ],
   "source": [
    "sample_ffn = point_wise_feed_forward_network(512, 2048)\n",
    "sample_ffn(tf.random.uniform((64, 50, 512))).shape"
   ]
  },
  {
   "cell_type": "markdown",
   "metadata": {
    "id": "7e7hKcxn6-zd"
   },
   "source": [
    "## Encoder and decoder"
   ]
  },
  {
   "cell_type": "markdown",
   "metadata": {
    "id": "yScbC0MUH8dS"
   },
   "source": [
    "<img src=\"https://www.tensorflow.org/images/tutorials/transformer/transformer.png\" width=\"600\" alt=\"transformer\">"
   ]
  },
  {
   "cell_type": "markdown",
   "metadata": {
    "id": "MfYJG-Kvgwy2"
   },
   "source": [
    "The transformer model follows the same general pattern as a standard [sequence to sequence with attention model](nmt_with_attention.ipynb). \n",
    "\n",
    "* The input sentence is passed through `N` encoder layers that generates an output for each word/token in the sequence.\n",
    "* The decoder attends on the encoder's output and its own input (self-attention) to predict the next word. "
   ]
  },
  {
   "cell_type": "markdown",
   "metadata": {
    "id": "QFv-FNYUmvpn"
   },
   "source": [
    "### Encoder layer\n",
    "\n",
    "Each encoder layer consists of sublayers:\n",
    "\n",
    "1.   Multi-head attention (with padding mask) \n",
    "2.    Point wise feed forward networks. \n",
    "\n",
    "Each of these sublayers has a residual connection around it followed by a layer normalization. Residual connections help in avoiding the vanishing gradient problem in deep networks.\n",
    "\n",
    "The output of each sublayer is `LayerNorm(x + Sublayer(x))`. The normalization is done on the `d_model` (last) axis. There are N encoder layers in the transformer."
   ]
  },
  {
   "cell_type": "code",
   "execution_count": 34,
   "metadata": {
    "execution": {
     "iopub.execute_input": "2021-04-23T01:28:50.359285Z",
     "iopub.status.busy": "2021-04-23T01:28:50.358586Z",
     "iopub.status.idle": "2021-04-23T01:28:50.360216Z",
     "shell.execute_reply": "2021-04-23T01:28:50.360583Z"
    },
    "id": "ncyS-Ms3i2x_"
   },
   "outputs": [],
   "source": [
    "class EncoderLayer(tf.keras.layers.Layer):\n",
    "  def __init__(self, d_model, num_heads, dff, rate=0.1):\n",
    "    super(EncoderLayer, self).__init__()\n",
    "\n",
    "    self.mha = MultiHeadAttention(d_model, num_heads)\n",
    "    self.ffn = point_wise_feed_forward_network(d_model, dff)\n",
    "\n",
    "    self.layernorm1 = tf.keras.layers.LayerNormalization(epsilon=1e-6)\n",
    "    self.layernorm2 = tf.keras.layers.LayerNormalization(epsilon=1e-6)\n",
    "\n",
    "    self.dropout1 = tf.keras.layers.Dropout(rate)\n",
    "    self.dropout2 = tf.keras.layers.Dropout(rate)\n",
    "\n",
    "  def call(self, x, training, mask):\n",
    "\n",
    "    attn_output, _ = self.mha(x, x, x, mask)  # (batch_size, input_seq_len, d_model)\n",
    "    attn_output = self.dropout1(attn_output, training=training)\n",
    "    out1 = self.layernorm1(x + attn_output)  # (batch_size, input_seq_len, d_model)\n",
    "\n",
    "    ffn_output = self.ffn(out1)  # (batch_size, input_seq_len, d_model)\n",
    "    ffn_output = self.dropout2(ffn_output, training=training)\n",
    "    out2 = self.layernorm2(out1 + ffn_output)  # (batch_size, input_seq_len, d_model)\n",
    "\n",
    "    return out2"
   ]
  },
  {
   "cell_type": "code",
   "execution_count": 35,
   "metadata": {
    "execution": {
     "iopub.execute_input": "2021-04-23T01:28:50.375006Z",
     "iopub.status.busy": "2021-04-23T01:28:50.374251Z",
     "iopub.status.idle": "2021-04-23T01:28:50.431435Z",
     "shell.execute_reply": "2021-04-23T01:28:50.430918Z"
    },
    "id": "AzZRXdO0mI48"
   },
   "outputs": [
    {
     "data": {
      "text/plain": [
       "TensorShape([64, 43, 512])"
      ]
     },
     "execution_count": 1,
     "metadata": {},
     "output_type": "execute_result"
    }
   ],
   "source": [
    "sample_encoder_layer = EncoderLayer(512, 8, 2048)\n",
    "\n",
    "sample_encoder_layer_output = sample_encoder_layer(\n",
    "    tf.random.uniform((64, 43, 512)), False, None)\n",
    "\n",
    "sample_encoder_layer_output.shape  # (batch_size, input_seq_len, d_model)"
   ]
  },
  {
   "cell_type": "markdown",
   "metadata": {
    "id": "6LO_48Owmx_o"
   },
   "source": [
    "### Decoder layer\n",
    "\n",
    "Each decoder layer consists of sublayers:\n",
    "\n",
    "1.   Masked multi-head attention (with look ahead mask and padding mask)\n",
    "2.   Multi-head attention (with padding mask). V (value) and K (key) receive the *encoder output* as inputs. Q (query) receives the *output from the masked multi-head attention sublayer.*\n",
    "3.   Point wise feed forward networks\n",
    "\n",
    "Each of these sublayers has a residual connection around it followed by a layer normalization. The output of each sublayer is `LayerNorm(x + Sublayer(x))`. The normalization is done on the `d_model` (last) axis.\n",
    "\n",
    "There are N decoder layers in the transformer.\n",
    "\n",
    "As Q receives the output from decoder's first attention block, and K receives the encoder output, the attention weights represent the importance given to the decoder's input based on the encoder's output. In other words, the decoder predicts the next word by looking at the encoder output and self-attending to its own output. See the demonstration above in the scaled dot product attention section."
   ]
  },
  {
   "cell_type": "code",
   "execution_count": 36,
   "metadata": {
    "execution": {
     "iopub.execute_input": "2021-04-23T01:28:50.442238Z",
     "iopub.status.busy": "2021-04-23T01:28:50.441395Z",
     "iopub.status.idle": "2021-04-23T01:28:50.443917Z",
     "shell.execute_reply": "2021-04-23T01:28:50.443359Z"
    },
    "id": "9SoX0-vd1hue"
   },
   "outputs": [],
   "source": [
    "class DecoderLayer(tf.keras.layers.Layer):\n",
    "  def __init__(self, d_model, num_heads, dff, rate=0.1):\n",
    "    super(DecoderLayer, self).__init__()\n",
    "\n",
    "    self.mha1 = MultiHeadAttention(d_model, num_heads)\n",
    "    self.mha2 = MultiHeadAttention(d_model, num_heads)\n",
    "\n",
    "    self.ffn = point_wise_feed_forward_network(d_model, dff)\n",
    "\n",
    "    self.layernorm1 = tf.keras.layers.LayerNormalization(epsilon=1e-6)\n",
    "    self.layernorm2 = tf.keras.layers.LayerNormalization(epsilon=1e-6)\n",
    "    self.layernorm3 = tf.keras.layers.LayerNormalization(epsilon=1e-6)\n",
    "\n",
    "    self.dropout1 = tf.keras.layers.Dropout(rate)\n",
    "    self.dropout2 = tf.keras.layers.Dropout(rate)\n",
    "    self.dropout3 = tf.keras.layers.Dropout(rate)\n",
    "\n",
    "  def call(self, x, enc_output, training,\n",
    "           look_ahead_mask, padding_mask):\n",
    "    # enc_output.shape == (batch_size, input_seq_len, d_model)\n",
    "\n",
    "    attn1, attn_weights_block1 = self.mha1(x, x, x, look_ahead_mask)  # (batch_size, target_seq_len, d_model)\n",
    "    attn1 = self.dropout1(attn1, training=training)\n",
    "    out1 = self.layernorm1(attn1 + x)\n",
    "\n",
    "    attn2, attn_weights_block2 = self.mha2(\n",
    "        enc_output, enc_output, out1, padding_mask)  # (batch_size, target_seq_len, d_model)\n",
    "    attn2 = self.dropout2(attn2, training=training)\n",
    "    out2 = self.layernorm2(attn2 + out1)  # (batch_size, target_seq_len, d_model)\n",
    "\n",
    "    ffn_output = self.ffn(out2)  # (batch_size, target_seq_len, d_model)\n",
    "    ffn_output = self.dropout3(ffn_output, training=training)\n",
    "    out3 = self.layernorm3(ffn_output + out2)  # (batch_size, target_seq_len, d_model)\n",
    "\n",
    "    return out3, attn_weights_block1, attn_weights_block2"
   ]
  },
  {
   "cell_type": "code",
   "execution_count": 37,
   "metadata": {
    "execution": {
     "iopub.execute_input": "2021-04-23T01:28:50.458426Z",
     "iopub.status.busy": "2021-04-23T01:28:50.457580Z",
     "iopub.status.idle": "2021-04-23T01:28:50.512911Z",
     "shell.execute_reply": "2021-04-23T01:28:50.513332Z"
    },
    "id": "Ne2Bqx8k71l0"
   },
   "outputs": [
    {
     "data": {
      "text/plain": [
       "TensorShape([64, 50, 512])"
      ]
     },
     "execution_count": 1,
     "metadata": {},
     "output_type": "execute_result"
    }
   ],
   "source": [
    "sample_decoder_layer = DecoderLayer(512, 8, 2048)\n",
    "\n",
    "sample_decoder_layer_output, _, _ = sample_decoder_layer(\n",
    "    tf.random.uniform((64, 50, 512)), sample_encoder_layer_output,\n",
    "    False, None, None)\n",
    "\n",
    "sample_decoder_layer_output.shape  # (batch_size, target_seq_len, d_model)"
   ]
  },
  {
   "cell_type": "markdown",
   "metadata": {
    "id": "SE1H51Ajm0q1"
   },
   "source": [
    "### Encoder\n",
    "\n",
    "The `Encoder` consists of:\n",
    "1.   Input Embedding\n",
    "2.   Positional Encoding\n",
    "3.   N encoder layers\n",
    "\n",
    "The input is put through an embedding which is summed with the positional encoding. The output of this summation is the input to the encoder layers. The output of the encoder is the input to the decoder."
   ]
  },
  {
   "cell_type": "code",
   "execution_count": 38,
   "metadata": {
    "execution": {
     "iopub.execute_input": "2021-04-23T01:28:50.522989Z",
     "iopub.status.busy": "2021-04-23T01:28:50.522204Z",
     "iopub.status.idle": "2021-04-23T01:28:50.524295Z",
     "shell.execute_reply": "2021-04-23T01:28:50.523686Z"
    },
    "id": "jpEox7gJ8FCI"
   },
   "outputs": [],
   "source": [
    "class Encoder(tf.keras.layers.Layer):\n",
    "  def __init__(self, num_layers, d_model, num_heads, dff, input_vocab_size,\n",
    "               maximum_position_encoding, rate=0.1):\n",
    "    super(Encoder, self).__init__()\n",
    "\n",
    "    self.d_model = d_model\n",
    "    self.num_layers = num_layers\n",
    "\n",
    "    self.embedding = tf.keras.layers.Embedding(input_vocab_size, d_model)\n",
    "    self.pos_encoding = positional_encoding(maximum_position_encoding,\n",
    "                                            self.d_model)\n",
    "\n",
    "    self.enc_layers = [EncoderLayer(d_model, num_heads, dff, rate)\n",
    "                       for _ in range(num_layers)]\n",
    "\n",
    "    self.dropout = tf.keras.layers.Dropout(rate)\n",
    "\n",
    "  def call(self, x, training, mask):\n",
    "\n",
    "    seq_len = tf.shape(x)[1]\n",
    "\n",
    "    # adding embedding and position encoding.\n",
    "    x = self.embedding(x)  # (batch_size, input_seq_len, d_model)\n",
    "    x *= tf.math.sqrt(tf.cast(self.d_model, tf.float32))\n",
    "    x += self.pos_encoding[:, :seq_len, :]\n",
    "\n",
    "    x = self.dropout(x, training=training)\n",
    "\n",
    "    for i in range(self.num_layers):\n",
    "      x = self.enc_layers[i](x, training, mask)\n",
    "\n",
    "    return x  # (batch_size, input_seq_len, d_model)"
   ]
  },
  {
   "cell_type": "code",
   "execution_count": 39,
   "metadata": {
    "execution": {
     "iopub.execute_input": "2021-04-23T01:28:50.535902Z",
     "iopub.status.busy": "2021-04-23T01:28:50.535183Z",
     "iopub.status.idle": "2021-04-23T01:28:50.837560Z",
     "shell.execute_reply": "2021-04-23T01:28:50.836996Z"
    },
    "id": "8QG9nueFQKXx"
   },
   "outputs": [
    {
     "name": "stdout",
     "output_type": "stream",
     "text": [
      "(64, 62, 512)\n"
     ]
    }
   ],
   "source": [
    "sample_encoder = Encoder(num_layers=2, d_model=512, num_heads=8,\n",
    "                         dff=2048, input_vocab_size=8500,\n",
    "                         maximum_position_encoding=10000)\n",
    "temp_input = tf.random.uniform((64, 62), dtype=tf.int64, minval=0, maxval=200)\n",
    "\n",
    "sample_encoder_output = sample_encoder(temp_input, training=False, mask=None)\n",
    "\n",
    "print(sample_encoder_output.shape)  # (batch_size, input_seq_len, d_model)"
   ]
  },
  {
   "cell_type": "markdown",
   "metadata": {
    "id": "p-uO6ls8m2O5"
   },
   "source": [
    "### Decoder"
   ]
  },
  {
   "cell_type": "markdown",
   "metadata": {
    "id": "ZtT7PKzrXkNr"
   },
   "source": [
    " The `Decoder` consists of:\n",
    "1.   Output Embedding\n",
    "2.   Positional Encoding\n",
    "3.   N decoder layers\n",
    "\n",
    "The target is put through an embedding which is summed with the positional encoding. The output of this summation is the input to the decoder layers. The output of the decoder is the input to the final linear layer."
   ]
  },
  {
   "cell_type": "code",
   "execution_count": 40,
   "metadata": {
    "execution": {
     "iopub.execute_input": "2021-04-23T01:28:50.847721Z",
     "iopub.status.busy": "2021-04-23T01:28:50.842058Z",
     "iopub.status.idle": "2021-04-23T01:28:50.850144Z",
     "shell.execute_reply": "2021-04-23T01:28:50.849622Z"
    },
    "id": "d5_d5-PLQXwY"
   },
   "outputs": [],
   "source": [
    "class Decoder(tf.keras.layers.Layer):\n",
    "  def __init__(self, num_layers, d_model, num_heads, dff, target_vocab_size,\n",
    "               maximum_position_encoding, rate=0.1):\n",
    "    super(Decoder, self).__init__()\n",
    "\n",
    "    self.d_model = d_model\n",
    "    self.num_layers = num_layers\n",
    "\n",
    "    self.embedding = tf.keras.layers.Embedding(target_vocab_size, d_model)\n",
    "    self.pos_encoding = positional_encoding(maximum_position_encoding, d_model)\n",
    "\n",
    "    self.dec_layers = [DecoderLayer(d_model, num_heads, dff, rate)\n",
    "                       for _ in range(num_layers)]\n",
    "    self.dropout = tf.keras.layers.Dropout(rate)\n",
    "\n",
    "  def call(self, x, enc_output, training,\n",
    "           look_ahead_mask, padding_mask):\n",
    "\n",
    "    seq_len = tf.shape(x)[1]\n",
    "    attention_weights = {}\n",
    "\n",
    "    x = self.embedding(x)  # (batch_size, target_seq_len, d_model)\n",
    "    x *= tf.math.sqrt(tf.cast(self.d_model, tf.float32))\n",
    "    x += self.pos_encoding[:, :seq_len, :]\n",
    "\n",
    "    x = self.dropout(x, training=training)\n",
    "\n",
    "    for i in range(self.num_layers):\n",
    "      x, block1, block2 = self.dec_layers[i](x, enc_output, training,\n",
    "                                             look_ahead_mask, padding_mask)\n",
    "\n",
    "      attention_weights[f'decoder_layer{i+1}_block1'] = block1\n",
    "      attention_weights[f'decoder_layer{i+1}_block2'] = block2\n",
    "\n",
    "    # x.shape == (batch_size, target_seq_len, d_model)\n",
    "    return x, attention_weights"
   ]
  },
  {
   "cell_type": "code",
   "execution_count": 41,
   "metadata": {
    "execution": {
     "iopub.execute_input": "2021-04-23T01:28:50.857449Z",
     "iopub.status.busy": "2021-04-23T01:28:50.856753Z",
     "iopub.status.idle": "2021-04-23T01:28:51.090279Z",
     "shell.execute_reply": "2021-04-23T01:28:51.090705Z"
    },
    "id": "a1jXoAMRZyvu"
   },
   "outputs": [
    {
     "data": {
      "text/plain": [
       "(TensorShape([64, 26, 512]), TensorShape([64, 8, 26, 62]))"
      ]
     },
     "execution_count": 1,
     "metadata": {},
     "output_type": "execute_result"
    }
   ],
   "source": [
    "sample_decoder = Decoder(num_layers=2, d_model=512, num_heads=8,\n",
    "                         dff=2048, target_vocab_size=8000,\n",
    "                         maximum_position_encoding=5000)\n",
    "temp_input = tf.random.uniform((64, 26), dtype=tf.int64, minval=0, maxval=200)\n",
    "\n",
    "output, attn = sample_decoder(temp_input,\n",
    "                              enc_output=sample_encoder_output,\n",
    "                              training=False,\n",
    "                              look_ahead_mask=None,\n",
    "                              padding_mask=None)\n",
    "\n",
    "output.shape, attn['decoder_layer2_block2'].shape"
   ]
  },
  {
   "cell_type": "markdown",
   "metadata": {
    "id": "y54xnJnuYgJ7"
   },
   "source": [
    "## Create the Transformer"
   ]
  },
  {
   "cell_type": "markdown",
   "metadata": {
    "id": "uERO1y54cOKq"
   },
   "source": [
    "Transformer consists of the encoder, decoder and a final linear layer. The output of the decoder is the input to the linear layer and its output is returned."
   ]
  },
  {
   "cell_type": "code",
   "execution_count": 42,
   "metadata": {
    "execution": {
     "iopub.execute_input": "2021-04-23T01:28:51.098491Z",
     "iopub.status.busy": "2021-04-23T01:28:51.097787Z",
     "iopub.status.idle": "2021-04-23T01:28:51.099898Z",
     "shell.execute_reply": "2021-04-23T01:28:51.099444Z"
    },
    "id": "PED3bIpOYkBu"
   },
   "outputs": [],
   "source": [
    "class Transformer(tf.keras.Model):\n",
    "  def __init__(self, num_layers, d_model, num_heads, dff, input_vocab_size,\n",
    "               target_vocab_size, pe_input, pe_target, rate=0.1):\n",
    "    super(Transformer, self).__init__()\n",
    "\n",
    "    self.tokenizer = Encoder(num_layers, d_model, num_heads, dff,\n",
    "                             input_vocab_size, pe_input, rate)\n",
    "\n",
    "    self.decoder = Decoder(num_layers, d_model, num_heads, dff,\n",
    "                           target_vocab_size, pe_target, rate)\n",
    "\n",
    "    self.final_layer = tf.keras.layers.Dense(target_vocab_size)\n",
    "\n",
    "  def call(self, inp, tar, training, enc_padding_mask,\n",
    "           look_ahead_mask, dec_padding_mask):\n",
    "\n",
    "    enc_output = self.tokenizer(inp, training, enc_padding_mask)  # (batch_size, inp_seq_len, d_model)\n",
    "\n",
    "    # dec_output.shape == (batch_size, tar_seq_len, d_model)\n",
    "    dec_output, attention_weights = self.decoder(\n",
    "        tar, enc_output, training, look_ahead_mask, dec_padding_mask)\n",
    "\n",
    "    final_output = self.final_layer(dec_output)  # (batch_size, tar_seq_len, target_vocab_size)\n",
    "\n",
    "    return final_output, attention_weights"
   ]
  },
  {
   "cell_type": "code",
   "execution_count": 43,
   "metadata": {
    "execution": {
     "iopub.execute_input": "2021-04-23T01:28:51.108469Z",
     "iopub.status.busy": "2021-04-23T01:28:51.107662Z",
     "iopub.status.idle": "2021-04-23T01:28:51.659197Z",
     "shell.execute_reply": "2021-04-23T01:28:51.658545Z"
    },
    "id": "tJ4fbQcIkHW1"
   },
   "outputs": [
    {
     "data": {
      "text/plain": [
       "TensorShape([64, 36, 8000])"
      ]
     },
     "execution_count": 1,
     "metadata": {},
     "output_type": "execute_result"
    }
   ],
   "source": [
    "sample_transformer = Transformer(\n",
    "    num_layers=2, d_model=512, num_heads=8, dff=2048,\n",
    "    input_vocab_size=8500, target_vocab_size=8000,\n",
    "    pe_input=10000, pe_target=6000)\n",
    "\n",
    "temp_input = tf.random.uniform((64, 38), dtype=tf.int64, minval=0, maxval=200)\n",
    "temp_target = tf.random.uniform((64, 36), dtype=tf.int64, minval=0, maxval=200)\n",
    "\n",
    "fn_out, _ = sample_transformer(temp_input, temp_target, training=False,\n",
    "                               enc_padding_mask=None,\n",
    "                               look_ahead_mask=None,\n",
    "                               dec_padding_mask=None)\n",
    "\n",
    "fn_out.shape  # (batch_size, tar_seq_len, target_vocab_size)"
   ]
  },
  {
   "cell_type": "markdown",
   "metadata": {
    "id": "wsINyf1VEQLC"
   },
   "source": [
    "## Set hyperparameters"
   ]
  },
  {
   "cell_type": "markdown",
   "metadata": {
    "id": "zVjWCxFNcgbt"
   },
   "source": [
    "To keep this example small and relatively fast, the values for *num_layers, d_model, and dff* have been reduced. \n",
    "\n",
    "The values used in the base model of transformer were; *num_layers=6*, *d_model = 512*, *dff = 2048*. See the [paper](https://arxiv.org/abs/1706.03762) for all the other versions of the transformer.\n",
    "\n",
    "Note: By changing the values below, you can get the model that achieved state of the art on many tasks."
   ]
  },
  {
   "cell_type": "code",
   "execution_count": 44,
   "metadata": {
    "execution": {
     "iopub.execute_input": "2021-04-23T01:28:51.664123Z",
     "iopub.status.busy": "2021-04-23T01:28:51.663475Z",
     "iopub.status.idle": "2021-04-23T01:28:51.665889Z",
     "shell.execute_reply": "2021-04-23T01:28:51.665341Z"
    },
    "id": "lnJn5SLA2ahP"
   },
   "outputs": [],
   "source": [
    "num_layers = 4\n",
    "d_model = 128\n",
    "dff = 512\n",
    "num_heads = 8\n",
    "dropout_rate = 0.1"
   ]
  },
  {
   "cell_type": "markdown",
   "metadata": {
    "id": "xYEGhEOtzn5W"
   },
   "source": [
    "## Optimizer"
   ]
  },
  {
   "cell_type": "markdown",
   "metadata": {
    "id": "GOmWW--yP3zx"
   },
   "source": [
    "Use the Adam optimizer with a custom learning rate scheduler according to the formula in the [paper](https://arxiv.org/abs/1706.03762).\n",
    "\n",
    "$$\\Large{lrate = d_{model}^{-0.5} * \\min(step{\\_}num^{-0.5}, step{\\_}num \\cdot warmup{\\_}steps^{-1.5})}$$\n"
   ]
  },
  {
   "cell_type": "code",
   "execution_count": 45,
   "metadata": {
    "execution": {
     "iopub.execute_input": "2021-04-23T01:28:51.672643Z",
     "iopub.status.busy": "2021-04-23T01:28:51.671940Z",
     "iopub.status.idle": "2021-04-23T01:28:51.674322Z",
     "shell.execute_reply": "2021-04-23T01:28:51.673837Z"
    },
    "id": "iYQdOO1axwEI"
   },
   "outputs": [],
   "source": [
    "class CustomSchedule(tf.keras.optimizers.schedules.LearningRateSchedule):\n",
    "  def __init__(self, d_model, warmup_steps=4000):\n",
    "    super(CustomSchedule, self).__init__()\n",
    "\n",
    "    self.d_model = d_model\n",
    "    self.d_model = tf.cast(self.d_model, tf.float32)\n",
    "\n",
    "    self.warmup_steps = warmup_steps\n",
    "\n",
    "  def __call__(self, step):\n",
    "    arg1 = tf.math.rsqrt(step)\n",
    "    arg2 = step * (self.warmup_steps ** -1.5)\n",
    "\n",
    "    return tf.math.rsqrt(self.d_model) * tf.math.minimum(arg1, arg2)"
   ]
  },
  {
   "cell_type": "code",
   "execution_count": 46,
   "metadata": {
    "execution": {
     "iopub.execute_input": "2021-04-23T01:28:51.678853Z",
     "iopub.status.busy": "2021-04-23T01:28:51.678130Z",
     "iopub.status.idle": "2021-04-23T01:28:51.681102Z",
     "shell.execute_reply": "2021-04-23T01:28:51.680623Z"
    },
    "id": "7r4scdulztRx"
   },
   "outputs": [],
   "source": [
    "learning_rate = CustomSchedule(d_model)\n",
    "\n",
    "optimizer = tf.keras.optimizers.Adam(learning_rate, beta_1=0.9, beta_2=0.98,\n",
    "                                     epsilon=1e-9)"
   ]
  },
  {
   "cell_type": "code",
   "execution_count": 47,
   "metadata": {
    "execution": {
     "iopub.execute_input": "2021-04-23T01:28:51.686665Z",
     "iopub.status.busy": "2021-04-23T01:28:51.685859Z",
     "iopub.status.idle": "2021-04-23T01:28:51.855310Z",
     "shell.execute_reply": "2021-04-23T01:28:51.854774Z"
    },
    "id": "f33ZCgvHpPdG"
   },
   "outputs": [
    {
     "data": {
      "text/plain": [
       "Text(0.5, 0, 'Train Step')"
      ]
     },
     "execution_count": 1,
     "metadata": {},
     "output_type": "execute_result"
    },
    {
     "data": {
      "image/png": "[encoded data removed]",
      "text/plain": [
       "<Figure size 432x288 with 1 Axes>"
      ]
     },
     "metadata": {
      "needs_background": "light"
     },
     "output_type": "display_data"
    }
   ],
   "source": [
    "temp_learning_rate_schedule = CustomSchedule(d_model)\n",
    "\n",
    "plt.plot(temp_learning_rate_schedule(tf.range(40000, dtype=tf.float32)))\n",
    "plt.ylabel(\"Learning Rate\")\n",
    "plt.xlabel(\"Train Step\")"
   ]
  },
  {
   "cell_type": "markdown",
   "metadata": {
    "id": "YgkDE7hzo8r5"
   },
   "source": [
    "## Loss and metrics"
   ]
  },
  {
   "cell_type": "markdown",
   "metadata": {
    "id": "oxGJtoDuYIHL"
   },
   "source": [
    "Since the target sequences are padded, it is important to apply a padding mask when calculating the loss."
   ]
  },
  {
   "cell_type": "code",
   "execution_count": 48,
   "metadata": {
    "execution": {
     "iopub.execute_input": "2021-04-23T01:28:51.860181Z",
     "iopub.status.busy": "2021-04-23T01:28:51.859520Z",
     "iopub.status.idle": "2021-04-23T01:28:51.861871Z",
     "shell.execute_reply": "2021-04-23T01:28:51.861339Z"
    },
    "id": "MlhsJMm0TW_B"
   },
   "outputs": [],
   "source": [
    "loss_object = tf.keras.losses.SparseCategoricalCrossentropy(\n",
    "    from_logits=True, reduction='none')"
   ]
  },
  {
   "cell_type": "code",
   "execution_count": 49,
   "metadata": {
    "execution": {
     "iopub.execute_input": "2021-04-23T01:28:51.869350Z",
     "iopub.status.busy": "2021-04-23T01:28:51.868621Z",
     "iopub.status.idle": "2021-04-23T01:28:51.870580Z",
     "shell.execute_reply": "2021-04-23T01:28:51.870977Z"
    },
    "id": "67oqVHiT0Eiu"
   },
   "outputs": [],
   "source": [
    "def loss_function(real, pred):\n",
    "  mask = tf.math.logical_not(tf.math.equal(real, 0))\n",
    "  loss_ = loss_object(real, pred)\n",
    "\n",
    "  mask = tf.cast(mask, dtype=loss_.dtype)\n",
    "  loss_ *= mask\n",
    "\n",
    "  return tf.reduce_sum(loss_)/tf.reduce_sum(mask)\n",
    "\n",
    "\n",
    "def accuracy_function(real, pred):\n",
    "  accuracies = tf.equal(real, tf.argmax(pred, axis=2))\n",
    "\n",
    "  mask = tf.math.logical_not(tf.math.equal(real, 0))\n",
    "  accuracies = tf.math.logical_and(mask, accuracies)\n",
    "\n",
    "  accuracies = tf.cast(accuracies, dtype=tf.float32)\n",
    "  mask = tf.cast(mask, dtype=tf.float32)\n",
    "  return tf.reduce_sum(accuracies)/tf.reduce_sum(mask)"
   ]
  },
  {
   "cell_type": "code",
   "execution_count": 50,
   "metadata": {
    "execution": {
     "iopub.execute_input": "2021-04-23T01:28:51.883192Z",
     "iopub.status.busy": "2021-04-23T01:28:51.882449Z",
     "iopub.status.idle": "2021-04-23T01:28:51.891477Z",
     "shell.execute_reply": "2021-04-23T01:28:51.891946Z"
    },
    "id": "phlyxMnm-Tpx"
   },
   "outputs": [],
   "source": [
    "train_loss = tf.keras.metrics.Mean(name='train_loss')\n",
    "train_accuracy = tf.keras.metrics.Mean(name='train_accuracy')"
   ]
  },
  {
   "cell_type": "markdown",
   "metadata": {
    "id": "aeHumfr7zmMa"
   },
   "source": [
    "## Training and checkpointing"
   ]
  },
  {
   "cell_type": "code",
   "execution_count": 51,
   "metadata": {
    "execution": {
     "iopub.execute_input": "2021-04-23T01:28:51.899563Z",
     "iopub.status.busy": "2021-04-23T01:28:51.898866Z",
     "iopub.status.idle": "2021-04-23T01:28:52.022919Z",
     "shell.execute_reply": "2021-04-23T01:28:52.023439Z"
    },
    "id": "UiysUa--4tOU"
   },
   "outputs": [],
   "source": [
    "transformer = Transformer(\n",
    "    num_layers=num_layers,\n",
    "    d_model=d_model,\n",
    "    num_heads=num_heads,\n",
    "    dff=dff,\n",
    "    input_vocab_size=tokenizers.pt.get_vocab_size(),\n",
    "    target_vocab_size=tokenizers.en.get_vocab_size(),\n",
    "    pe_input=1000,\n",
    "    pe_target=1000,\n",
    "    rate=dropout_rate)"
   ]
  },
  {
   "cell_type": "code",
   "execution_count": 52,
   "metadata": {
    "execution": {
     "iopub.execute_input": "2021-04-23T01:28:52.029519Z",
     "iopub.status.busy": "2021-04-23T01:28:52.028784Z",
     "iopub.status.idle": "2021-04-23T01:28:52.031353Z",
     "shell.execute_reply": "2021-04-23T01:28:52.030845Z"
    },
    "id": "ZOJUSB1T8GjM"
   },
   "outputs": [],
   "source": [
    "def create_masks(inp, tar):\n",
    "  # Encoder padding mask\n",
    "  enc_padding_mask = create_padding_mask(inp)\n",
    "\n",
    "  # Used in the 2nd attention block in the decoder.\n",
    "  # This padding mask is used to mask the encoder outputs.\n",
    "  dec_padding_mask = create_padding_mask(inp)\n",
    "\n",
    "  # Used in the 1st attention block in the decoder.\n",
    "  # It is used to pad and mask future tokens in the input received by\n",
    "  # the decoder.\n",
    "  look_ahead_mask = create_look_ahead_mask(tf.shape(tar)[1])\n",
    "  dec_target_padding_mask = create_padding_mask(tar)\n",
    "  combined_mask = tf.maximum(dec_target_padding_mask, look_ahead_mask)\n",
    "\n",
    "  return enc_padding_mask, combined_mask, dec_padding_mask"
   ]
  },
  {
   "cell_type": "markdown",
   "metadata": {
    "id": "Fzuf06YZp66w"
   },
   "source": [
    "Create the checkpoint path and the checkpoint manager. This will be used to save checkpoints every `n` epochs."
   ]
  },
  {
   "cell_type": "code",
   "execution_count": 53,
   "metadata": {
    "execution": {
     "iopub.execute_input": "2021-04-23T01:28:52.037469Z",
     "iopub.status.busy": "2021-04-23T01:28:52.036772Z",
     "iopub.status.idle": "2021-04-23T01:28:52.039411Z",
     "shell.execute_reply": "2021-04-23T01:28:52.038794Z"
    },
    "id": "hNhuYfllndLZ"
   },
   "outputs": [],
   "source": [
    "checkpoint_path = \"./checkpoints/train\"\n",
    "\n",
    "ckpt = tf.train.Checkpoint(transformer=transformer,\n",
    "                           optimizer=optimizer)\n",
    "\n",
    "ckpt_manager = tf.train.CheckpointManager(ckpt, checkpoint_path, max_to_keep=5)\n",
    "\n",
    "# if a checkpoint exists, restore the latest checkpoint.\n",
    "if ckpt_manager.latest_checkpoint:\n",
    "  ckpt.restore(ckpt_manager.latest_checkpoint)\n",
    "  print('Latest checkpoint restored!!')"
   ]
  },
  {
   "cell_type": "markdown",
   "metadata": {
    "id": "0Di_Yaa1gf9r"
   },
   "source": [
    "The target is divided into tar_inp and tar_real. tar_inp is passed as an input to the decoder. `tar_real` is that same input shifted by 1: At each location in `tar_input`, `tar_real` contains the  next token that should be predicted.\n",
    "\n",
    "For example, `sentence` = \"SOS A lion in the jungle is sleeping EOS\"\n",
    "\n",
    "`tar_inp` =  \"SOS A lion in the jungle is sleeping\"\n",
    "\n",
    "`tar_real` = \"A lion in the jungle is sleeping EOS\"\n",
    "\n",
    "The transformer is an auto-regressive model: it makes predictions one part at a time, and uses its output so far to decide what to do next. \n",
    "\n",
    "During training this example uses teacher-forcing (like in the [text generation tutorial](./text_generation.ipynb)). Teacher forcing is passing the true output to the next time step regardless of what the model predicts at the current time step.\n",
    "\n",
    "As the transformer predicts each word, *self-attention* allows it to look at the previous words in the input sequence to better predict the next word.\n",
    "\n",
    "To prevent the model from peeking at the expected output the model uses a look-ahead mask."
   ]
  },
  {
   "cell_type": "code",
   "execution_count": 54,
   "metadata": {
    "execution": {
     "iopub.execute_input": "2021-04-23T01:28:52.043934Z",
     "iopub.status.busy": "2021-04-23T01:28:52.043210Z",
     "iopub.status.idle": "2021-04-23T01:28:52.045940Z",
     "shell.execute_reply": "2021-04-23T01:28:52.045372Z"
    },
    "id": "LKpoA6q1sJFj"
   },
   "outputs": [],
   "source": [
    "EPOCHS = 20"
   ]
  },
  {
   "cell_type": "code",
   "execution_count": 55,
   "metadata": {
    "execution": {
     "iopub.execute_input": "2021-04-23T01:28:52.054153Z",
     "iopub.status.busy": "2021-04-23T01:28:52.053376Z",
     "iopub.status.idle": "2021-04-23T01:28:52.055878Z",
     "shell.execute_reply": "2021-04-23T01:28:52.055347Z"
    },
    "id": "iJwmp9OE29oj"
   },
   "outputs": [],
   "source": [
    "# The @tf.function trace-compiles train_step into a TF graph for faster\n",
    "# execution. The function specializes to the precise shape of the argument\n",
    "# tensors. To avoid re-tracing due to the variable sequence lengths or variable\n",
    "# batch sizes (the last batch is smaller), use input_signature to specify\n",
    "# more generic shapes.\n",
    "\n",
    "train_step_signature = [\n",
    "    tf.TensorSpec(shape=(None, None), dtype=tf.int64),\n",
    "    tf.TensorSpec(shape=(None, None), dtype=tf.int64),\n",
    "]\n",
    "\n",
    "\n",
    "@tf.function(input_signature=train_step_signature)\n",
    "def train_step(inp, tar):\n",
    "  tar_inp = tar[:, :-1]\n",
    "  tar_real = tar[:, 1:]\n",
    "\n",
    "  enc_padding_mask, combined_mask, dec_padding_mask = create_masks(inp, tar_inp)\n",
    "\n",
    "  with tf.GradientTape() as tape:\n",
    "    predictions, _ = transformer(inp, tar_inp,\n",
    "                                 True,\n",
    "                                 enc_padding_mask,\n",
    "                                 combined_mask,\n",
    "                                 dec_padding_mask)\n",
    "    loss = loss_function(tar_real, predictions)\n",
    "\n",
    "  gradients = tape.gradient(loss, transformer.trainable_variables)\n",
    "  optimizer.apply_gradients(zip(gradients, transformer.trainable_variables))\n",
    "\n",
    "  train_loss(loss)\n",
    "  train_accuracy(accuracy_function(tar_real, predictions))"
   ]
  },
  {
   "cell_type": "markdown",
   "metadata": {
    "id": "qM2PDWGDJ_8V"
   },
   "source": [
    "Portuguese is used as the input language and English is the target language."
   ]
  },
  {
   "cell_type": "code",
   "execution_count": 56,
   "metadata": {
    "execution": {
     "iopub.execute_input": "2021-04-23T01:28:52.062793Z",
     "iopub.status.busy": "2021-04-23T01:28:52.062059Z",
     "iopub.status.idle": "2021-04-23T01:45:52.252939Z",
     "shell.execute_reply": "2021-04-23T01:45:52.253368Z"
    },
    "id": "bbvmaKNiznHZ"
   },
   "outputs": [
    {
     "name": "stdout",
     "output_type": "stream",
     "text": [
      "Epoch 1 Batch 0 Loss 8.8704 Accuracy 0.0081\n",
      "Epoch 1 Batch 50 Loss 8.8161 Accuracy 0.0091\n",
      "Epoch 1 Batch 100 Loss 8.7176 Accuracy 0.0225\n",
      "Epoch 1 Batch 150 Loss 8.6033 Accuracy 0.0354\n",
      "Epoch 1 Batch 200 Loss 8.4620 Accuracy 0.0424\n",
      "Epoch 1 Batch 250 Loss 8.2929 Accuracy 0.0474\n",
      "Epoch 1 Batch 300 Loss 8.1045 Accuracy 0.0522\n",
      "Epoch 1 Batch 350 Loss 7.9074 Accuracy 0.0579\n",
      "Epoch 1 Batch 400 Loss 7.7174 Accuracy 0.0657\n",
      "Epoch 1 Batch 450 Loss 7.5503 Accuracy 0.0728\n",
      "Epoch 1 Batch 500 Loss 7.4023 Accuracy 0.0794\n",
      "Epoch 1 Batch 550 Loss 7.2690 Accuracy 0.0864\n",
      "Epoch 1 Batch 600 Loss 7.1429 Accuracy 0.0939\n",
      "Epoch 1 Batch 650 Loss 7.0231 Accuracy 0.1012\n",
      "Epoch 1 Batch 700 Loss 6.9124 Accuracy 0.1077\n",
      "Epoch 1 Batch 750 Loss 6.8118 Accuracy 0.1140\n",
      "Epoch 1 Batch 800 Loss 6.7182 Accuracy 0.1195\n",
      "Epoch 1 Loss 6.7023 Accuracy 0.1205\n",
      "Time taken for 1 epoch: 67.89 secs\n",
      "\n",
      "Epoch 2 Batch 0 Loss 5.1591 Accuracy 0.2270\n",
      "Epoch 2 Batch 50 Loss 5.2163 Accuracy 0.2126\n",
      "Epoch 2 Batch 100 Loss 5.1807 Accuracy 0.2167\n",
      "Epoch 2 Batch 150 Loss 5.1651 Accuracy 0.2190\n",
      "Epoch 2 Batch 200 Loss 5.1359 Accuracy 0.2227\n",
      "Epoch 2 Batch 250 Loss 5.1069 Accuracy 0.2253\n",
      "Epoch 2 Batch 300 Loss 5.0841 Accuracy 0.2275\n",
      "Epoch 2 Batch 350 Loss 5.0592 Accuracy 0.2301\n",
      "Epoch 2 Batch 400 Loss 5.0360 Accuracy 0.2325\n",
      "Epoch 2 Batch 450 Loss 5.0155 Accuracy 0.2346\n",
      "Epoch 2 Batch 500 Loss 4.9966 Accuracy 0.2364\n",
      "Epoch 2 Batch 550 Loss 4.9763 Accuracy 0.2382\n",
      "Epoch 2 Batch 600 Loss 4.9571 Accuracy 0.2400\n",
      "Epoch 2 Batch 650 Loss 4.9392 Accuracy 0.2417\n",
      "Epoch 2 Batch 700 Loss 4.9229 Accuracy 0.2431\n",
      "Epoch 2 Batch 750 Loss 4.9063 Accuracy 0.2445\n",
      "Epoch 2 Batch 800 Loss 4.8908 Accuracy 0.2458\n",
      "Epoch 2 Loss 4.8871 Accuracy 0.2462\n",
      "Time taken for 1 epoch: 51.84 secs\n",
      "\n",
      "Epoch 3 Batch 0 Loss 4.7496 Accuracy 0.2528\n",
      "Epoch 3 Batch 50 Loss 4.5931 Accuracy 0.2724\n",
      "Epoch 3 Batch 100 Loss 4.5815 Accuracy 0.2730\n",
      "Epoch 3 Batch 150 Loss 4.5607 Accuracy 0.2747\n",
      "Epoch 3 Batch 200 Loss 4.5467 Accuracy 0.2760\n",
      "Epoch 3 Batch 250 Loss 4.5444 Accuracy 0.2764\n",
      "Epoch 3 Batch 300 Loss 4.5312 Accuracy 0.2778\n",
      "Epoch 3 Batch 350 Loss 4.5188 Accuracy 0.2791\n",
      "Epoch 3 Batch 400 Loss 4.5048 Accuracy 0.2808\n",
      "Epoch 3 Batch 450 Loss 4.4914 Accuracy 0.2822\n",
      "Epoch 3 Batch 500 Loss 4.4781 Accuracy 0.2835\n",
      "Epoch 3 Batch 550 Loss 4.4637 Accuracy 0.2853\n",
      "Epoch 3 Batch 600 Loss 4.4502 Accuracy 0.2869\n",
      "Epoch 3 Batch 650 Loss 4.4355 Accuracy 0.2887\n",
      "Epoch 3 Batch 700 Loss 4.4193 Accuracy 0.2904\n",
      "Epoch 3 Batch 750 Loss 4.4046 Accuracy 0.2922\n",
      "Epoch 3 Batch 800 Loss 4.3877 Accuracy 0.2943\n",
      "Epoch 3 Loss 4.3835 Accuracy 0.2947\n",
      "Time taken for 1 epoch: 50.60 secs\n",
      "\n",
      "Epoch 4 Batch 0 Loss 4.1652 Accuracy 0.3333\n",
      "Epoch 4 Batch 50 Loss 4.0788 Accuracy 0.3290\n",
      "Epoch 4 Batch 100 Loss 4.0445 Accuracy 0.3339\n",
      "Epoch 4 Batch 150 Loss 4.0198 Accuracy 0.3370\n",
      "Epoch 4 Batch 200 Loss 4.0064 Accuracy 0.3390\n",
      "Epoch 4 Batch 250 Loss 3.9912 Accuracy 0.3406\n",
      "Epoch 4 Batch 300 Loss 3.9757 Accuracy 0.3426\n",
      "Epoch 4 Batch 350 Loss 3.9589 Accuracy 0.3447\n",
      "Epoch 4 Batch 400 Loss 3.9458 Accuracy 0.3464\n",
      "Epoch 4 Batch 450 Loss 3.9309 Accuracy 0.3481\n",
      "Epoch 4 Batch 500 Loss 3.9130 Accuracy 0.3505\n",
      "Epoch 4 Batch 550 Loss 3.9002 Accuracy 0.3521\n",
      "Epoch 4 Batch 600 Loss 3.8851 Accuracy 0.3542\n",
      "Epoch 4 Batch 650 Loss 3.8680 Accuracy 0.3564\n",
      "Epoch 4 Batch 700 Loss 3.8556 Accuracy 0.3582\n",
      "Epoch 4 Batch 750 Loss 3.8442 Accuracy 0.3597\n",
      "Epoch 4 Batch 800 Loss 3.8292 Accuracy 0.3618\n",
      "Epoch 4 Loss 3.8263 Accuracy 0.3622\n",
      "Time taken for 1 epoch: 50.77 secs\n",
      "\n",
      "Epoch 5 Batch 0 Loss 3.6539 Accuracy 0.3988\n",
      "Epoch 5 Batch 50 Loss 3.5384 Accuracy 0.3941\n",
      "Epoch 5 Batch 100 Loss 3.5270 Accuracy 0.3959\n",
      "Epoch 5 Batch 150 Loss 3.5129 Accuracy 0.3992\n",
      "Epoch 5 Batch 200 Loss 3.4907 Accuracy 0.4023\n",
      "Epoch 5 Batch 250 Loss 3.4844 Accuracy 0.4029\n",
      "Epoch 5 Batch 300 Loss 3.4699 Accuracy 0.4049\n",
      "Epoch 5 Batch 350 Loss 3.4615 Accuracy 0.4060\n",
      "Epoch 5 Batch 400 Loss 3.4520 Accuracy 0.4073\n",
      "Epoch 5 Batch 450 Loss 3.4455 Accuracy 0.4080\n",
      "Epoch 5 Batch 500 Loss 3.4331 Accuracy 0.4098\n",
      "Epoch 5 Batch 550 Loss 3.4182 Accuracy 0.4116\n",
      "Epoch 5 Batch 600 Loss 3.4119 Accuracy 0.4124\n",
      "Epoch 5 Batch 650 Loss 3.4020 Accuracy 0.4137\n",
      "Epoch 5 Batch 700 Loss 3.3951 Accuracy 0.4148\n",
      "Epoch 5 Batch 750 Loss 3.3880 Accuracy 0.4156\n",
      "Epoch 5 Batch 800 Loss 3.3780 Accuracy 0.4171\n",
      "Saving checkpoint for epoch 5 at ./checkpoints/train/ckpt-1\n",
      "Epoch 5 Loss 3.3768 Accuracy 0.4172\n",
      "Time taken for 1 epoch: 50.68 secs\n",
      "\n",
      "Epoch 6 Batch 0 Loss 3.2038 Accuracy 0.4183\n",
      "Epoch 6 Batch 50 Loss 3.1073 Accuracy 0.4465\n",
      "Epoch 6 Batch 100 Loss 3.1056 Accuracy 0.4467\n",
      "Epoch 6 Batch 150 Loss 3.0853 Accuracy 0.4500\n",
      "Epoch 6 Batch 200 Loss 3.0788 Accuracy 0.4512\n",
      "Epoch 6 Batch 250 Loss 3.0802 Accuracy 0.4507\n",
      "Epoch 6 Batch 300 Loss 3.0750 Accuracy 0.4516\n",
      "Epoch 6 Batch 350 Loss 3.0661 Accuracy 0.4528\n",
      "Epoch 6 Batch 400 Loss 3.0562 Accuracy 0.4543\n",
      "Epoch 6 Batch 450 Loss 3.0464 Accuracy 0.4558\n",
      "Epoch 6 Batch 500 Loss 3.0342 Accuracy 0.4575\n",
      "Epoch 6 Batch 550 Loss 3.0282 Accuracy 0.4584\n",
      "Epoch 6 Batch 600 Loss 3.0199 Accuracy 0.4596\n",
      "Epoch 6 Batch 650 Loss 3.0085 Accuracy 0.4614\n",
      "Epoch 6 Batch 700 Loss 3.0005 Accuracy 0.4625\n",
      "Epoch 6 Batch 750 Loss 2.9946 Accuracy 0.4634\n",
      "Epoch 6 Batch 800 Loss 2.9895 Accuracy 0.4642\n",
      "Epoch 6 Loss 2.9875 Accuracy 0.4645\n",
      "Time taken for 1 epoch: 50.88 secs\n",
      "\n",
      "Epoch 7 Batch 0 Loss 2.7694 Accuracy 0.4982\n",
      "Epoch 7 Batch 50 Loss 2.7504 Accuracy 0.4915\n",
      "Epoch 7 Batch 100 Loss 2.7268 Accuracy 0.4952\n",
      "Epoch 7 Batch 150 Loss 2.7187 Accuracy 0.4960\n",
      "Epoch 7 Batch 200 Loss 2.7095 Accuracy 0.4972\n",
      "Epoch 7 Batch 250 Loss 2.7081 Accuracy 0.4978\n",
      "Epoch 7 Batch 300 Loss 2.6940 Accuracy 0.5001\n",
      "Epoch 7 Batch 350 Loss 2.6906 Accuracy 0.5008\n",
      "Epoch 7 Batch 400 Loss 2.6818 Accuracy 0.5023\n",
      "Epoch 7 Batch 450 Loss 2.6795 Accuracy 0.5027\n",
      "Epoch 7 Batch 500 Loss 2.6768 Accuracy 0.5031\n",
      "Epoch 7 Batch 550 Loss 2.6754 Accuracy 0.5034\n",
      "Epoch 7 Batch 600 Loss 2.6715 Accuracy 0.5039\n",
      "Epoch 7 Batch 650 Loss 2.6682 Accuracy 0.5046\n",
      "Epoch 7 Batch 700 Loss 2.6643 Accuracy 0.5053\n",
      "Epoch 7 Batch 750 Loss 2.6607 Accuracy 0.5060\n",
      "Epoch 7 Batch 800 Loss 2.6548 Accuracy 0.5070\n",
      "Epoch 7 Loss 2.6560 Accuracy 0.5069\n",
      "Time taken for 1 epoch: 50.55 secs\n",
      "\n",
      "Epoch 8 Batch 0 Loss 2.5369 Accuracy 0.5155\n",
      "Epoch 8 Batch 50 Loss 2.4466 Accuracy 0.5349\n",
      "Epoch 8 Batch 100 Loss 2.4255 Accuracy 0.5371\n",
      "Epoch 8 Batch 150 Loss 2.4299 Accuracy 0.5357\n",
      "Epoch 8 Batch 200 Loss 2.4301 Accuracy 0.5361\n",
      "Epoch 8 Batch 250 Loss 2.4266 Accuracy 0.5369\n",
      "Epoch 8 Batch 300 Loss 2.4291 Accuracy 0.5367\n",
      "Epoch 8 Batch 350 Loss 2.4275 Accuracy 0.5372\n",
      "Epoch 8 Batch 400 Loss 2.4261 Accuracy 0.5372\n",
      "Epoch 8 Batch 450 Loss 2.4248 Accuracy 0.5373\n",
      "Epoch 8 Batch 500 Loss 2.4253 Accuracy 0.5371\n",
      "Epoch 8 Batch 550 Loss 2.4238 Accuracy 0.5374\n",
      "Epoch 8 Batch 600 Loss 2.4215 Accuracy 0.5378\n",
      "Epoch 8 Batch 650 Loss 2.4203 Accuracy 0.5383\n",
      "Epoch 8 Batch 700 Loss 2.4182 Accuracy 0.5386\n",
      "Epoch 8 Batch 750 Loss 2.4160 Accuracy 0.5389\n",
      "Epoch 8 Batch 800 Loss 2.4154 Accuracy 0.5391\n",
      "Epoch 8 Loss 2.4155 Accuracy 0.5391\n",
      "Time taken for 1 epoch: 50.08 secs\n",
      "\n",
      "Epoch 9 Batch 0 Loss 2.1173 Accuracy 0.5724\n",
      "Epoch 9 Batch 50 Loss 2.2597 Accuracy 0.5580\n",
      "Epoch 9 Batch 100 Loss 2.2266 Accuracy 0.5628\n",
      "Epoch 9 Batch 150 Loss 2.2298 Accuracy 0.5626\n",
      "Epoch 9 Batch 200 Loss 2.2301 Accuracy 0.5627\n",
      "Epoch 9 Batch 250 Loss 2.2381 Accuracy 0.5619\n",
      "Epoch 9 Batch 300 Loss 2.2342 Accuracy 0.5626\n",
      "Epoch 9 Batch 350 Loss 2.2366 Accuracy 0.5623\n",
      "Epoch 9 Batch 400 Loss 2.2374 Accuracy 0.5623\n",
      "Epoch 9 Batch 450 Loss 2.2357 Accuracy 0.5627\n",
      "Epoch 9 Batch 500 Loss 2.2348 Accuracy 0.5630\n",
      "Epoch 9 Batch 550 Loss 2.2324 Accuracy 0.5635\n",
      "Epoch 9 Batch 600 Loss 2.2337 Accuracy 0.5634\n",
      "Epoch 9 Batch 650 Loss 2.2343 Accuracy 0.5632\n",
      "Epoch 9 Batch 700 Loss 2.2358 Accuracy 0.5631\n",
      "Epoch 9 Batch 750 Loss 2.2344 Accuracy 0.5634\n",
      "Epoch 9 Batch 800 Loss 2.2353 Accuracy 0.5634\n",
      "Epoch 9 Loss 2.2343 Accuracy 0.5636\n",
      "Time taken for 1 epoch: 48.99 secs\n",
      "\n",
      "Epoch 10 Batch 0 Loss 1.9922 Accuracy 0.5977\n",
      "Epoch 10 Batch 50 Loss 2.0634 Accuracy 0.5875\n",
      "Epoch 10 Batch 100 Loss 2.0665 Accuracy 0.5864\n",
      "Epoch 10 Batch 150 Loss 2.0772 Accuracy 0.5852\n",
      "Epoch 10 Batch 200 Loss 2.0844 Accuracy 0.5847\n",
      "Epoch 10 Batch 250 Loss 2.0829 Accuracy 0.5845\n",
      "Epoch 10 Batch 300 Loss 2.0851 Accuracy 0.5841\n",
      "Epoch 10 Batch 350 Loss 2.0884 Accuracy 0.5838\n",
      "Epoch 10 Batch 400 Loss 2.0882 Accuracy 0.5838\n",
      "Epoch 10 Batch 450 Loss 2.0893 Accuracy 0.5835\n",
      "Epoch 10 Batch 500 Loss 2.0865 Accuracy 0.5839\n",
      "Epoch 10 Batch 550 Loss 2.0883 Accuracy 0.5839\n",
      "Epoch 10 Batch 600 Loss 2.0881 Accuracy 0.5840\n",
      "Epoch 10 Batch 650 Loss 2.0886 Accuracy 0.5839\n",
      "Epoch 10 Batch 700 Loss 2.0903 Accuracy 0.5839\n",
      "Epoch 10 Batch 750 Loss 2.0901 Accuracy 0.5839\n",
      "Epoch 10 Batch 800 Loss 2.0936 Accuracy 0.5836\n",
      "Saving checkpoint for epoch 10 at ./checkpoints/train/ckpt-2\n",
      "Epoch 10 Loss 2.0936 Accuracy 0.5836\n",
      "Time taken for 1 epoch: 49.90 secs\n",
      "\n",
      "Epoch 11 Batch 0 Loss 1.9743 Accuracy 0.6003\n",
      "Epoch 11 Batch 50 Loss 1.9758 Accuracy 0.5977\n",
      "Epoch 11 Batch 100 Loss 1.9516 Accuracy 0.6016\n",
      "Epoch 11 Batch 150 Loss 1.9523 Accuracy 0.6028\n",
      "Epoch 11 Batch 200 Loss 1.9650 Accuracy 0.6004\n",
      "Epoch 11 Batch 250 Loss 1.9619 Accuracy 0.6013\n",
      "Epoch 11 Batch 300 Loss 1.9623 Accuracy 0.6012\n",
      "Epoch 11 Batch 350 Loss 1.9674 Accuracy 0.6003\n",
      "Epoch 11 Batch 400 Loss 1.9678 Accuracy 0.6003\n",
      "Epoch 11 Batch 450 Loss 1.9687 Accuracy 0.6004\n",
      "Epoch 11 Batch 500 Loss 1.9708 Accuracy 0.6001\n",
      "Epoch 11 Batch 550 Loss 1.9738 Accuracy 0.5997\n",
      "Epoch 11 Batch 600 Loss 1.9769 Accuracy 0.5994\n",
      "Epoch 11 Batch 650 Loss 1.9754 Accuracy 0.5997\n",
      "Epoch 11 Batch 700 Loss 1.9760 Accuracy 0.5998\n",
      "Epoch 11 Batch 750 Loss 1.9789 Accuracy 0.5994\n",
      "Epoch 11 Batch 800 Loss 1.9801 Accuracy 0.5994\n",
      "Epoch 11 Loss 1.9801 Accuracy 0.5993\n",
      "Time taken for 1 epoch: 50.51 secs\n",
      "\n",
      "Epoch 12 Batch 0 Loss 2.0371 Accuracy 0.5814\n",
      "Epoch 12 Batch 50 Loss 1.8457 Accuracy 0.6189\n",
      "Epoch 12 Batch 100 Loss 1.8479 Accuracy 0.6178\n",
      "Epoch 12 Batch 150 Loss 1.8477 Accuracy 0.6182\n",
      "Epoch 12 Batch 200 Loss 1.8504 Accuracy 0.6180\n",
      "Epoch 12 Batch 250 Loss 1.8545 Accuracy 0.6172\n",
      "Epoch 12 Batch 300 Loss 1.8621 Accuracy 0.6159\n",
      "Epoch 12 Batch 350 Loss 1.8635 Accuracy 0.6157\n",
      "Epoch 12 Batch 400 Loss 1.8686 Accuracy 0.6153\n",
      "Epoch 12 Batch 450 Loss 1.8712 Accuracy 0.6151\n",
      "Epoch 12 Batch 500 Loss 1.8746 Accuracy 0.6145\n",
      "Epoch 12 Batch 550 Loss 1.8756 Accuracy 0.6143\n",
      "Epoch 12 Batch 600 Loss 1.8764 Accuracy 0.6143\n",
      "Epoch 12 Batch 650 Loss 1.8796 Accuracy 0.6136\n",
      "Epoch 12 Batch 700 Loss 1.8810 Accuracy 0.6135\n",
      "Epoch 12 Batch 750 Loss 1.8836 Accuracy 0.6134\n",
      "Epoch 12 Batch 800 Loss 1.8847 Accuracy 0.6133\n",
      "Epoch 12 Loss 1.8841 Accuracy 0.6134\n",
      "Time taken for 1 epoch: 50.77 secs\n",
      "\n",
      "Epoch 13 Batch 0 Loss 1.7012 Accuracy 0.6425\n",
      "Epoch 13 Batch 50 Loss 1.7877 Accuracy 0.6252\n",
      "Epoch 13 Batch 100 Loss 1.7753 Accuracy 0.6284\n",
      "Epoch 13 Batch 150 Loss 1.7830 Accuracy 0.6275\n",
      "Epoch 13 Batch 200 Loss 1.7758 Accuracy 0.6285\n",
      "Epoch 13 Batch 250 Loss 1.7815 Accuracy 0.6274\n",
      "Epoch 13 Batch 300 Loss 1.7873 Accuracy 0.6266\n",
      "Epoch 13 Batch 350 Loss 1.7875 Accuracy 0.6266\n",
      "Epoch 13 Batch 400 Loss 1.7876 Accuracy 0.6268\n",
      "Epoch 13 Batch 450 Loss 1.7885 Accuracy 0.6266\n",
      "Epoch 13 Batch 500 Loss 1.7904 Accuracy 0.6264\n",
      "Epoch 13 Batch 550 Loss 1.7896 Accuracy 0.6266\n",
      "Epoch 13 Batch 600 Loss 1.7909 Accuracy 0.6266\n",
      "Epoch 13 Batch 650 Loss 1.7947 Accuracy 0.6260\n",
      "Epoch 13 Batch 700 Loss 1.7988 Accuracy 0.6255\n",
      "Epoch 13 Batch 750 Loss 1.8013 Accuracy 0.6254\n",
      "Epoch 13 Batch 800 Loss 1.8027 Accuracy 0.6253\n",
      "Epoch 13 Loss 1.8044 Accuracy 0.6251\n",
      "Time taken for 1 epoch: 50.61 secs\n",
      "\n",
      "Epoch 14 Batch 0 Loss 1.5408 Accuracy 0.6717\n",
      "Epoch 14 Batch 50 Loss 1.6916 Accuracy 0.6429\n",
      "Epoch 14 Batch 100 Loss 1.6907 Accuracy 0.6429\n",
      "Epoch 14 Batch 150 Loss 1.7023 Accuracy 0.6407\n",
      "Epoch 14 Batch 200 Loss 1.7057 Accuracy 0.6400\n",
      "Epoch 14 Batch 250 Loss 1.7103 Accuracy 0.6390\n",
      "Epoch 14 Batch 300 Loss 1.7094 Accuracy 0.6392\n",
      "Epoch 14 Batch 350 Loss 1.7124 Accuracy 0.6389\n",
      "Epoch 14 Batch 400 Loss 1.7136 Accuracy 0.6387\n",
      "Epoch 14 Batch 450 Loss 1.7161 Accuracy 0.6383\n",
      "Epoch 14 Batch 500 Loss 1.7169 Accuracy 0.6381\n",
      "Epoch 14 Batch 550 Loss 1.7184 Accuracy 0.6380\n",
      "Epoch 14 Batch 600 Loss 1.7204 Accuracy 0.6376\n",
      "Epoch 14 Batch 650 Loss 1.7242 Accuracy 0.6370\n",
      "Epoch 14 Batch 700 Loss 1.7270 Accuracy 0.6365\n",
      "Epoch 14 Batch 750 Loss 1.7311 Accuracy 0.6359\n",
      "Epoch 14 Batch 800 Loss 1.7329 Accuracy 0.6357\n",
      "Epoch 14 Loss 1.7332 Accuracy 0.6357\n",
      "Time taken for 1 epoch: 49.79 secs\n",
      "\n",
      "Epoch 15 Batch 0 Loss 1.6071 Accuracy 0.6600\n",
      "Epoch 15 Batch 50 Loss 1.6075 Accuracy 0.6563\n",
      "Epoch 15 Batch 100 Loss 1.6176 Accuracy 0.6543\n",
      "Epoch 15 Batch 150 Loss 1.6315 Accuracy 0.6522\n",
      "Epoch 15 Batch 200 Loss 1.6394 Accuracy 0.6505\n",
      "Epoch 15 Batch 250 Loss 1.6374 Accuracy 0.6508\n",
      "Epoch 15 Batch 300 Loss 1.6396 Accuracy 0.6503\n",
      "Epoch 15 Batch 350 Loss 1.6453 Accuracy 0.6494\n",
      "Epoch 15 Batch 400 Loss 1.6499 Accuracy 0.6485\n",
      "Epoch 15 Batch 450 Loss 1.6535 Accuracy 0.6480\n",
      "Epoch 15 Batch 500 Loss 1.6549 Accuracy 0.6479\n",
      "Epoch 15 Batch 550 Loss 1.6592 Accuracy 0.6470\n",
      "Epoch 15 Batch 600 Loss 1.6633 Accuracy 0.6464\n",
      "Epoch 15 Batch 650 Loss 1.6653 Accuracy 0.6462\n",
      "Epoch 15 Batch 700 Loss 1.6672 Accuracy 0.6460\n",
      "Epoch 15 Batch 750 Loss 1.6705 Accuracy 0.6455\n",
      "Epoch 15 Batch 800 Loss 1.6713 Accuracy 0.6454\n",
      "Saving checkpoint for epoch 15 at ./checkpoints/train/ckpt-3\n",
      "Epoch 15 Loss 1.6711 Accuracy 0.6455\n",
      "Time taken for 1 epoch: 49.58 secs\n",
      "\n",
      "Epoch 16 Batch 0 Loss 1.5173 Accuracy 0.6608\n",
      "Epoch 16 Batch 50 Loss 1.5766 Accuracy 0.6589\n",
      "Epoch 16 Batch 100 Loss 1.5695 Accuracy 0.6607\n",
      "Epoch 16 Batch 150 Loss 1.5790 Accuracy 0.6588\n",
      "Epoch 16 Batch 200 Loss 1.5813 Accuracy 0.6589\n",
      "Epoch 16 Batch 250 Loss 1.5881 Accuracy 0.6578\n",
      "Epoch 16 Batch 300 Loss 1.5924 Accuracy 0.6570\n",
      "Epoch 16 Batch 350 Loss 1.5967 Accuracy 0.6565\n",
      "Epoch 16 Batch 400 Loss 1.5992 Accuracy 0.6560\n",
      "Epoch 16 Batch 450 Loss 1.6021 Accuracy 0.6554\n",
      "Epoch 16 Batch 500 Loss 1.6016 Accuracy 0.6557\n",
      "Epoch 16 Batch 550 Loss 1.6044 Accuracy 0.6554\n",
      "Epoch 16 Batch 600 Loss 1.6072 Accuracy 0.6548\n",
      "Epoch 16 Batch 650 Loss 1.6100 Accuracy 0.6544\n",
      "Epoch 16 Batch 700 Loss 1.6125 Accuracy 0.6540\n",
      "Epoch 16 Batch 750 Loss 1.6164 Accuracy 0.6536\n",
      "Epoch 16 Batch 800 Loss 1.6184 Accuracy 0.6534\n",
      "Epoch 16 Loss 1.6194 Accuracy 0.6532\n",
      "Time taken for 1 epoch: 49.55 secs\n",
      "\n",
      "Epoch 17 Batch 0 Loss 1.4743 Accuracy 0.6809\n",
      "Epoch 17 Batch 50 Loss 1.5117 Accuracy 0.6702\n",
      "Epoch 17 Batch 100 Loss 1.5143 Accuracy 0.6695\n",
      "Epoch 17 Batch 150 Loss 1.5157 Accuracy 0.6699\n",
      "Epoch 17 Batch 200 Loss 1.5319 Accuracy 0.6668\n",
      "Epoch 17 Batch 250 Loss 1.5337 Accuracy 0.6664\n",
      "Epoch 17 Batch 300 Loss 1.5353 Accuracy 0.6663\n",
      "Epoch 17 Batch 350 Loss 1.5389 Accuracy 0.6658\n",
      "Epoch 17 Batch 400 Loss 1.5407 Accuracy 0.6655\n",
      "Epoch 17 Batch 450 Loss 1.5454 Accuracy 0.6646\n",
      "Epoch 17 Batch 500 Loss 1.5465 Accuracy 0.6644\n",
      "Epoch 17 Batch 550 Loss 1.5507 Accuracy 0.6638\n",
      "Epoch 17 Batch 600 Loss 1.5543 Accuracy 0.6634\n",
      "Epoch 17 Batch 650 Loss 1.5579 Accuracy 0.6629\n",
      "Epoch 17 Batch 700 Loss 1.5602 Accuracy 0.6625\n",
      "Epoch 17 Batch 750 Loss 1.5646 Accuracy 0.6619\n",
      "Epoch 17 Batch 800 Loss 1.5667 Accuracy 0.6614\n",
      "Epoch 17 Loss 1.5678 Accuracy 0.6613\n",
      "Time taken for 1 epoch: 49.26 secs\n",
      "\n",
      "Epoch 18 Batch 0 Loss 1.5091 Accuracy 0.6582\n",
      "Epoch 18 Batch 50 Loss 1.4854 Accuracy 0.6739\n",
      "Epoch 18 Batch 100 Loss 1.4776 Accuracy 0.6749\n",
      "Epoch 18 Batch 150 Loss 1.4790 Accuracy 0.6746\n",
      "Epoch 18 Batch 200 Loss 1.4861 Accuracy 0.6735\n",
      "Epoch 18 Batch 250 Loss 1.4875 Accuracy 0.6736\n",
      "Epoch 18 Batch 300 Loss 1.4922 Accuracy 0.6730\n",
      "Epoch 18 Batch 350 Loss 1.4953 Accuracy 0.6725\n",
      "Epoch 18 Batch 400 Loss 1.5018 Accuracy 0.6714\n",
      "Epoch 18 Batch 450 Loss 1.5055 Accuracy 0.6710\n",
      "Epoch 18 Batch 500 Loss 1.5063 Accuracy 0.6710\n",
      "Epoch 18 Batch 550 Loss 1.5091 Accuracy 0.6705\n",
      "Epoch 18 Batch 600 Loss 1.5107 Accuracy 0.6701\n",
      "Epoch 18 Batch 650 Loss 1.5142 Accuracy 0.6695\n",
      "Epoch 18 Batch 700 Loss 1.5175 Accuracy 0.6690\n",
      "Epoch 18 Batch 750 Loss 1.5198 Accuracy 0.6687\n",
      "Epoch 18 Batch 800 Loss 1.5233 Accuracy 0.6683\n",
      "Epoch 18 Loss 1.5240 Accuracy 0.6682\n",
      "Time taken for 1 epoch: 49.24 secs\n",
      "\n",
      "Epoch 19 Batch 0 Loss 1.3142 Accuracy 0.6876\n",
      "Epoch 19 Batch 50 Loss 1.4266 Accuracy 0.6843\n",
      "Epoch 19 Batch 100 Loss 1.4270 Accuracy 0.6841\n",
      "Epoch 19 Batch 150 Loss 1.4367 Accuracy 0.6822\n",
      "Epoch 19 Batch 200 Loss 1.4445 Accuracy 0.6810\n",
      "Epoch 19 Batch 250 Loss 1.4516 Accuracy 0.6796\n",
      "Epoch 19 Batch 300 Loss 1.4517 Accuracy 0.6799\n",
      "Epoch 19 Batch 350 Loss 1.4592 Accuracy 0.6786\n",
      "Epoch 19 Batch 400 Loss 1.4637 Accuracy 0.6777\n",
      "Epoch 19 Batch 450 Loss 1.4640 Accuracy 0.6776\n",
      "Epoch 19 Batch 500 Loss 1.4669 Accuracy 0.6773\n",
      "Epoch 19 Batch 550 Loss 1.4672 Accuracy 0.6771\n",
      "Epoch 19 Batch 600 Loss 1.4714 Accuracy 0.6764\n",
      "Epoch 19 Batch 650 Loss 1.4766 Accuracy 0.6755\n",
      "Epoch 19 Batch 700 Loss 1.4781 Accuracy 0.6752\n",
      "Epoch 19 Batch 750 Loss 1.4817 Accuracy 0.6746\n",
      "Epoch 19 Batch 800 Loss 1.4834 Accuracy 0.6745\n",
      "Epoch 19 Loss 1.4833 Accuracy 0.6745\n",
      "Time taken for 1 epoch: 48.96 secs\n",
      "\n",
      "Epoch 20 Batch 0 Loss 1.4669 Accuracy 0.6734\n",
      "Epoch 20 Batch 50 Loss 1.3892 Accuracy 0.6880\n",
      "Epoch 20 Batch 100 Loss 1.3869 Accuracy 0.6889\n",
      "Epoch 20 Batch 150 Loss 1.3953 Accuracy 0.6876\n",
      "Epoch 20 Batch 200 Loss 1.3963 Accuracy 0.6882\n",
      "Epoch 20 Batch 250 Loss 1.4018 Accuracy 0.6877\n",
      "Epoch 20 Batch 300 Loss 1.4066 Accuracy 0.6868\n",
      "Epoch 20 Batch 350 Loss 1.4136 Accuracy 0.6857\n",
      "Epoch 20 Batch 400 Loss 1.4175 Accuracy 0.6851\n",
      "Epoch 20 Batch 450 Loss 1.4217 Accuracy 0.6842\n",
      "Epoch 20 Batch 500 Loss 1.4278 Accuracy 0.6833\n",
      "Epoch 20 Batch 550 Loss 1.4296 Accuracy 0.6832\n",
      "Epoch 20 Batch 600 Loss 1.4323 Accuracy 0.6827\n",
      "Epoch 20 Batch 650 Loss 1.4341 Accuracy 0.6825\n",
      "Epoch 20 Batch 700 Loss 1.4372 Accuracy 0.6820\n",
      "Epoch 20 Batch 750 Loss 1.4408 Accuracy 0.6815\n",
      "Epoch 20 Batch 800 Loss 1.4451 Accuracy 0.6807\n",
      "Saving checkpoint for epoch 20 at ./checkpoints/train/ckpt-4\n",
      "Epoch 20 Loss 1.4464 Accuracy 0.6806\n",
      "Time taken for 1 epoch: 49.74 secs\n",
      "\n"
     ]
    }
   ],
   "source": [
    "for epoch in range(EPOCHS):\n",
    "  start = time.time()\n",
    "\n",
    "  train_loss.reset_states()\n",
    "  train_accuracy.reset_states()\n",
    "\n",
    "  # inp -> portuguese, tar -> english\n",
    "  for (batch, (inp, tar)) in enumerate(train_batches):\n",
    "    train_step(inp, tar)\n",
    "\n",
    "    if batch % 50 == 0:\n",
    "      print(f'Epoch {epoch + 1} Batch {batch} Loss {train_loss.result():.4f} Accuracy {train_accuracy.result():.4f}')\n",
    "\n",
    "  if (epoch + 1) % 5 == 0:\n",
    "    ckpt_save_path = ckpt_manager.save()\n",
    "    print(f'Saving checkpoint for epoch {epoch+1} at {ckpt_save_path}')\n",
    "\n",
    "  print(f'Epoch {epoch + 1} Loss {train_loss.result():.4f} Accuracy {train_accuracy.result():.4f}')\n",
    "\n",
    "  print(f'Time taken for 1 epoch: {time.time() - start:.2f} secs\\n')"
   ]
  },
  {
   "cell_type": "markdown",
   "metadata": {
    "id": "QfcsSWswSdGV"
   },
   "source": [
    "## Evaluate"
   ]
  },
  {
   "cell_type": "markdown",
   "metadata": {
    "id": "y6APsFrgImLW"
   },
   "source": [
    "The following steps are used for evaluation:\n",
    "\n",
    "* Encode the input sentence using the Portuguese tokenizer (`tokenizers.pt`). This is the encoder input.\n",
    "* The decoder input is initialized to the `[START]` token.\n",
    "* Calculate the padding masks and the look ahead masks.\n",
    "* The `decoder` then outputs the predictions by looking at the `encoder output` and its own output (self-attention).\n",
    "* The model makes predictions of the next word for each word in the output. Most of these are redundant. Use the predictions from the last word.\n",
    "* Concatenate the predicted word to the decoder input and pass it to the decoder.\n",
    "* In this approach, the decoder predicts the next word based on the previous words it predicted.\n",
    "\n",
    "Note: The model used here has less capacity to keep the example relatively faster so the predictions maybe less right. To reproduce the results in the paper, use the entire dataset and base transformer model or transformer XL, by changing the hyperparameters above."
   ]
  },
  {
   "cell_type": "code",
   "execution_count": 57,
   "metadata": {
    "execution": {
     "iopub.execute_input": "2021-04-23T01:45:52.261720Z",
     "iopub.status.busy": "2021-04-23T01:45:52.261050Z",
     "iopub.status.idle": "2021-04-23T01:45:52.262801Z",
     "shell.execute_reply": "2021-04-23T01:45:52.263137Z"
    },
    "id": "5buvMlnvyrFm"
   },
   "outputs": [],
   "source": [
    "def evaluate(sentence, max_length=40):\n",
    "  # inp sentence is portuguese, hence adding the start and end token\n",
    "  sentence = tf.convert_to_tensor([sentence])\n",
    "  sentence = tokenizers.pt.tokenize(sentence).to_tensor()\n",
    "\n",
    "  encoder_input = sentence\n",
    "\n",
    "  # as the target is english, the first word to the transformer should be the\n",
    "  # english start token.\n",
    "  start, end = tokenizers.en.tokenize([''])[0]\n",
    "  output = tf.convert_to_tensor([start])\n",
    "  output = tf.expand_dims(output, 0)\n",
    "\n",
    "  for i in range(max_length):\n",
    "    enc_padding_mask, combined_mask, dec_padding_mask = create_masks(\n",
    "        encoder_input, output)\n",
    "\n",
    "    # predictions.shape == (batch_size, seq_len, vocab_size)\n",
    "    predictions, attention_weights = transformer(encoder_input,\n",
    "                                                 output,\n",
    "                                                 False,\n",
    "                                                 enc_padding_mask,\n",
    "                                                 combined_mask,\n",
    "                                                 dec_padding_mask)\n",
    "\n",
    "    # select the last word from the seq_len dimension\n",
    "    predictions = predictions[:, -1:, :]  # (batch_size, 1, vocab_size)\n",
    "\n",
    "    predicted_id = tf.argmax(predictions, axis=-1)\n",
    "\n",
    "    # concatentate the predicted_id to the output which is given to the decoder\n",
    "    # as its input.\n",
    "    output = tf.concat([output, predicted_id], axis=-1)\n",
    "\n",
    "    # return the result if the predicted_id is equal to the end token\n",
    "    if predicted_id == end:\n",
    "      break\n",
    "\n",
    "  # output.shape (1, tokens)\n",
    "  text = tokenizers.en.detokenize(output)[0]  # shape: ()\n",
    "\n",
    "  tokens = tokenizers.en.lookup(output)[0]\n",
    "\n",
    "  return text, tokens, attention_weights"
   ]
  },
  {
   "cell_type": "code",
   "execution_count": 58,
   "metadata": {
    "execution": {
     "iopub.execute_input": "2021-04-23T01:45:52.267116Z",
     "iopub.status.busy": "2021-04-23T01:45:52.266569Z",
     "iopub.status.idle": "2021-04-23T01:45:52.268991Z",
     "shell.execute_reply": "2021-04-23T01:45:52.268458Z"
    },
    "id": "lU2_yG_vBGza"
   },
   "outputs": [],
   "source": [
    "def print_translation(sentence, tokens, ground_truth):\n",
    "  print(f'{\"Input:\":15s}: {sentence}')\n",
    "  print(f'{\"Prediction\":15s}: {tokens.numpy().decode(\"utf-8\")}')\n",
    "  print(f'{\"Ground truth\":15s}: {ground_truth}')"
   ]
  },
  {
   "cell_type": "code",
   "execution_count": 59,
   "metadata": {
    "execution": {
     "iopub.execute_input": "2021-04-23T01:45:52.275515Z",
     "iopub.status.busy": "2021-04-23T01:45:52.274364Z",
     "iopub.status.idle": "2021-04-23T01:45:53.954573Z",
     "shell.execute_reply": "2021-04-23T01:45:53.954074Z"
    },
    "id": "YsxrAlvFG8SZ"
   },
   "outputs": [
    {
     "name": "stdout",
     "output_type": "stream",
     "text": [
      "Input:         : este é um problema que temos que resolver.\n",
      "Prediction     : this is a problem that we have to solve .\n",
      "Ground truth   : this is a problem we have to solve .\n"
     ]
    }
   ],
   "source": [
    "sentence = \"este é um problema que temos que resolver.\"\n",
    "ground_truth = \"this is a problem we have to solve .\"\n",
    "\n",
    "translated_text, translated_tokens, attention_weights = evaluate(sentence)\n",
    "print_translation(sentence, translated_text, ground_truth)"
   ]
  },
  {
   "cell_type": "code",
   "execution_count": 60,
   "metadata": {
    "execution": {
     "iopub.execute_input": "2021-04-23T01:45:53.959205Z",
     "iopub.status.busy": "2021-04-23T01:45:53.958387Z",
     "iopub.status.idle": "2021-04-23T01:45:54.825350Z",
     "shell.execute_reply": "2021-04-23T01:45:54.825770Z"
    },
    "id": "7EH5y_aqI4t1"
   },
   "outputs": [
    {
     "name": "stdout",
     "output_type": "stream",
     "text": [
      "Input:         : os meus vizinhos ouviram sobre esta ideia.\n",
      "Prediction     : my neighbors heard about this idea .\n",
      "Ground truth   : and my neighboring homes heard about this idea .\n"
     ]
    }
   ],
   "source": [
    "sentence = \"os meus vizinhos ouviram sobre esta ideia.\"\n",
    "ground_truth = \"and my neighboring homes heard about this idea .\"\n",
    "\n",
    "translated_text, translated_tokens, attention_weights = evaluate(sentence)\n",
    "print_translation(sentence, translated_text, ground_truth)"
   ]
  },
  {
   "cell_type": "code",
   "execution_count": 61,
   "metadata": {
    "execution": {
     "iopub.execute_input": "2021-04-23T01:45:54.830777Z",
     "iopub.status.busy": "2021-04-23T01:45:54.829871Z",
     "iopub.status.idle": "2021-04-23T01:45:56.589937Z",
     "shell.execute_reply": "2021-04-23T01:45:56.589423Z"
    },
    "id": "J-hVCTSUMlkb"
   },
   "outputs": [
    {
     "name": "stdout",
     "output_type": "stream",
     "text": [
      "Input:         : vou então muito rapidamente partilhar convosco algumas histórias de algumas coisas mágicas que aconteceram.\n",
      "Prediction     : so i ' m going to share with you some very magical things that have happened .\n",
      "Ground truth   : so i 'll just share with you some stories very quickly of some magical things that have happened .\n"
     ]
    }
   ],
   "source": [
    "sentence = \"vou então muito rapidamente partilhar convosco algumas histórias de algumas coisas mágicas que aconteceram.\"\n",
    "ground_truth = \"so i \\'ll just share with you some stories very quickly of some magical things that have happened .\"\n",
    "\n",
    "translated_text, translated_tokens, attention_weights = evaluate(sentence)\n",
    "print_translation(sentence, translated_text, ground_truth)"
   ]
  },
  {
   "cell_type": "markdown",
   "metadata": {
    "id": "_1MxkSZvz0jX"
   },
   "source": [
    "You can pass different layers and attention blocks of the decoder to the `plot` parameter."
   ]
  },
  {
   "cell_type": "markdown",
   "metadata": {
    "id": "S3EQiFUC--Ds"
   },
   "source": [
    "## Attention plots"
   ]
  },
  {
   "cell_type": "markdown",
   "metadata": {
    "id": "hHV2pdXHGz-0"
   },
   "source": [
    "The `evaluate` function also returns a dictionary of attention maps you can use to visualize the internal working of the model:"
   ]
  },
  {
   "cell_type": "code",
   "execution_count": 62,
   "metadata": {
    "execution": {
     "iopub.execute_input": "2021-04-23T01:45:56.595337Z",
     "iopub.status.busy": "2021-04-23T01:45:56.594340Z",
     "iopub.status.idle": "2021-04-23T01:45:57.528836Z",
     "shell.execute_reply": "2021-04-23T01:45:57.528217Z"
    },
    "id": "t-kFyiOLH0xg"
   },
   "outputs": [
    {
     "name": "stdout",
     "output_type": "stream",
     "text": [
      "Input:         : este é o primeiro livro que eu fiz.\n",
      "Prediction     : this is the first book i did .\n",
      "Ground truth   : this is the first book i've ever done.\n"
     ]
    }
   ],
   "source": [
    "sentence = \"este é o primeiro livro que eu fiz.\"\n",
    "ground_truth = \"this is the first book i've ever done.\"\n",
    "\n",
    "translated_text, translated_tokens, attention_weights = evaluate(sentence)\n",
    "print_translation(sentence, translated_text, ground_truth)"
   ]
  },
  {
   "cell_type": "code",
   "execution_count": 63,
   "metadata": {
    "execution": {
     "iopub.execute_input": "2021-04-23T01:45:57.535096Z",
     "iopub.status.busy": "2021-04-23T01:45:57.534135Z",
     "iopub.status.idle": "2021-04-23T01:45:57.536324Z",
     "shell.execute_reply": "2021-04-23T01:45:57.536704Z"
    },
    "id": "CcI4DxAK5EHY"
   },
   "outputs": [],
   "source": [
    "def plot_attention_head(in_tokens, translated_tokens, attention):\n",
    "  # The plot is of the attention when a token was generated.\n",
    "  # The model didn't generate `<START>` in the output. Skip it.\n",
    "  translated_tokens = translated_tokens[1:]\n",
    "\n",
    "  ax = plt.gca()\n",
    "  ax.matshow(attention)\n",
    "  ax.set_xticks(range(len(in_tokens)))\n",
    "  ax.set_yticks(range(len(translated_tokens)))\n",
    "\n",
    "  labels = [label.decode('utf-8') for label in in_tokens.numpy()]\n",
    "  ax.set_xticklabels(\n",
    "      labels, rotation=90)\n",
    "\n",
    "  labels = [label.decode('utf-8') for label in translated_tokens.numpy()]\n",
    "  ax.set_yticklabels(labels)"
   ]
  },
  {
   "cell_type": "code",
   "execution_count": 64,
   "metadata": {
    "execution": {
     "iopub.execute_input": "2021-04-23T01:45:57.541182Z",
     "iopub.status.busy": "2021-04-23T01:45:57.540276Z",
     "iopub.status.idle": "2021-04-23T01:45:57.544717Z",
     "shell.execute_reply": "2021-04-23T01:45:57.544263Z"
    },
    "id": "_KY4c2cryuxY"
   },
   "outputs": [
    {
     "data": {
      "text/plain": [
       "TensorShape([9, 11])"
      ]
     },
     "execution_count": 1,
     "metadata": {},
     "output_type": "execute_result"
    }
   ],
   "source": [
    "head = 0\n",
    "# shape: (batch=1, num_heads, seq_len_q, seq_len_k)\n",
    "attention_heads = tf.squeeze(\n",
    "  attention_weights['decoder_layer4_block2'], 0)\n",
    "attention = attention_heads[head]\n",
    "attention.shape"
   ]
  },
  {
   "cell_type": "code",
   "execution_count": 65,
   "metadata": {
    "execution": {
     "iopub.execute_input": "2021-04-23T01:45:57.549563Z",
     "iopub.status.busy": "2021-04-23T01:45:57.548653Z",
     "iopub.status.idle": "2021-04-23T01:45:57.568279Z",
     "shell.execute_reply": "2021-04-23T01:45:57.568661Z"
    },
    "id": "XdxmakWE6Om3"
   },
   "outputs": [
    {
     "data": {
      "text/plain": [
       "<tf.Tensor: shape=(11,), dtype=string, numpy=\n",
       "array([b'[START]', b'este', b'e', b'o', b'primeiro', b'livro', b'que',\n",
       "       b'eu', b'fiz', b'.', b'[END]'], dtype=object)>"
      ]
     },
     "execution_count": 1,
     "metadata": {},
     "output_type": "execute_result"
    }
   ],
   "source": [
    "in_tokens = tf.convert_to_tensor([sentence])\n",
    "in_tokens = tokenizers.pt.tokenize(in_tokens).to_tensor()\n",
    "in_tokens = tokenizers.pt.lookup(in_tokens)[0]\n",
    "in_tokens"
   ]
  },
  {
   "cell_type": "code",
   "execution_count": 66,
   "metadata": {
    "execution": {
     "iopub.execute_input": "2021-04-23T01:45:57.573482Z",
     "iopub.status.busy": "2021-04-23T01:45:57.572730Z",
     "iopub.status.idle": "2021-04-23T01:45:57.575834Z",
     "shell.execute_reply": "2021-04-23T01:45:57.576256Z"
    },
    "id": "hVdPSfecmrpj"
   },
   "outputs": [
    {
     "data": {
      "text/plain": [
       "<tf.Tensor: shape=(10,), dtype=string, numpy=\n",
       "array([b'[START]', b'this', b'is', b'the', b'first', b'book', b'i',\n",
       "       b'did', b'.', b'[END]'], dtype=object)>"
      ]
     },
     "execution_count": 1,
     "metadata": {},
     "output_type": "execute_result"
    }
   ],
   "source": [
    "translated_tokens"
   ]
  },
  {
   "cell_type": "code",
   "execution_count": 67,
   "metadata": {
    "execution": {
     "iopub.execute_input": "2021-04-23T01:45:57.592347Z",
     "iopub.status.busy": "2021-04-23T01:45:57.579908Z",
     "iopub.status.idle": "2021-04-23T01:45:57.753256Z",
     "shell.execute_reply": "2021-04-23T01:45:57.753707Z"
    },
    "id": "XtzyKCFamm4N"
   },
   "outputs": [
    {
     "data": {
      "image/png": "[encoded data removed]",
      "text/plain": [
       "<Figure size 432x288 with 1 Axes>"
      ]
     },
     "metadata": {
      "needs_background": "light"
     },
     "output_type": "display_data"
    }
   ],
   "source": [
    "plot_attention_head(in_tokens, translated_tokens, attention)"
   ]
  },
  {
   "cell_type": "code",
   "execution_count": 68,
   "metadata": {
    "execution": {
     "iopub.execute_input": "2021-04-23T01:45:57.760123Z",
     "iopub.status.busy": "2021-04-23T01:45:57.759226Z",
     "iopub.status.idle": "2021-04-23T01:45:57.761743Z",
     "shell.execute_reply": "2021-04-23T01:45:57.761152Z"
    },
    "id": "MBliB-PCzNK3"
   },
   "outputs": [],
   "source": [
    "def plot_attention_weights(sentence, translated_tokens, attention_heads):\n",
    "  in_tokens = tf.convert_to_tensor([sentence])\n",
    "  in_tokens = tokenizers.pt.tokenize(in_tokens).to_tensor()\n",
    "  in_tokens = tokenizers.pt.lookup(in_tokens)[0]\n",
    "  in_tokens\n",
    "\n",
    "  fig = plt.figure(figsize=(16, 8))\n",
    "\n",
    "  for h, head in enumerate(attention_heads):\n",
    "    ax = fig.add_subplot(2, 4, h+1)\n",
    "\n",
    "    plot_attention_head(in_tokens, translated_tokens, head)\n",
    "\n",
    "    ax.set_xlabel(f'Head {h+1}')\n",
    "\n",
    "  plt.tight_layout()\n",
    "  plt.show()"
   ]
  },
  {
   "cell_type": "code",
   "execution_count": 69,
   "metadata": {
    "execution": {
     "iopub.execute_input": "2021-04-23T01:45:57.766049Z",
     "iopub.status.busy": "2021-04-23T01:45:57.765257Z",
     "iopub.status.idle": "2021-04-23T01:45:59.071923Z",
     "shell.execute_reply": "2021-04-23T01:45:59.072681Z"
    },
    "id": "pyRQi7944wru"
   },
   "outputs": [
    {
     "data": {
      "image/png": "[encoded data removed]",
      "text/plain": [
       "<Figure size 1152x576 with 8 Axes>"
      ]
     },
     "metadata": {
      "needs_background": "light"
     },
     "output_type": "display_data"
    }
   ],
   "source": [
    "plot_attention_weights(sentence, translated_tokens,\n",
    "                       attention_weights['decoder_layer4_block2'][0])"
   ]
  },
  {
   "cell_type": "markdown",
   "metadata": {
    "id": "MZJirKUtikTt"
   },
   "source": [
    "The model does okay on unfamiliar words. Neither \"triceratops\" or \"encyclopedia\" are in the input dataset and the model almost learns to transliterate them, even without a shared vocabulary:"
   ]
  },
  {
   "cell_type": "code",
   "execution_count": 70,
   "metadata": {
    "execution": {
     "iopub.execute_input": "2021-04-23T01:45:59.078901Z",
     "iopub.status.busy": "2021-04-23T01:45:59.077912Z",
     "iopub.status.idle": "2021-04-23T01:46:01.925318Z",
     "shell.execute_reply": "2021-04-23T01:46:01.925807Z"
    },
    "id": "9cxysY7uh3jg"
   },
   "outputs": [
    {
     "name": "stdout",
     "output_type": "stream",
     "text": [
      "Input:         : Eu li sobre triceratops na enciclopédia.\n",
      "Prediction     : i read about trifters in egypt .\n",
      "Ground truth   : I read about triceratops in the encyclopedia.\n"
     ]
    },
    {
     "data": {
      "image/png": "[encoded data removed]",
      "text/plain": [
       "<Figure size 1152x576 with 8 Axes>"
      ]
     },
     "metadata": {
      "needs_background": "light"
     },
     "output_type": "display_data"
    }
   ],
   "source": [
    "sentence = \"Eu li sobre triceratops na enciclopédia.\"\n",
    "ground_truth = \"I read about triceratops in the encyclopedia.\"\n",
    "\n",
    "translated_text, translated_tokens, attention_weights = evaluate(sentence)\n",
    "print_translation(sentence, translated_text, ground_truth)\n",
    "\n",
    "plot_attention_weights(sentence, translated_tokens,\n",
    "                       attention_weights['decoder_layer4_block2'][0])"
   ]
  },
  {
   "cell_type": "markdown",
   "metadata": {
    "id": "RqQ1fIsLwkGE"
   },
   "source": [
    "## Summary\n",
    "\n",
    "In this tutorial, you learned about positional encoding, multi-head attention, the importance of masking and how to create a transformer.\n",
    "\n",
    "Try using a different dataset to train the transformer. You can also create the base transformer or transformer XL by changing the hyperparameters above. You can also use the layers defined here to create [BERT](https://arxiv.org/abs/1810.04805) and train state of the art models. Furthermore, you can implement beam search to get better predictions."
   ]
  }
 ],
 "metadata": {
  "accelerator": "GPU",
  "colab": {
   "collapsed_sections": [],
   "name": "transformer.ipynb",
   "toc_visible": true
  },
  "kernelspec": {
   "display_name": "Python 3",
   "language": "python",
   "name": "python3"
  },
  "language_info": {
   "codemirror_mode": {
    "name": "ipython",
    "version": 3
   },
   "file_extension": ".py",
   "mimetype": "text/x-python",
   "name": "python",
   "nbconvert_exporter": "python",
   "pygments_lexer": "ipython3",
   "version": "3.8.0"
  }
 },
 "nbformat": 4,
 "nbformat_minor": 4
}
